{
  "nbformat": 4,
  "nbformat_minor": 0,
  "metadata": {
    "colab": {
      "name": "Testing Ensemble Methods.ipynb",
      "provenance": [],
      "collapsed_sections": []
    },
    "kernelspec": {
      "name": "python3",
      "display_name": "Python 3"
    },
    "language_info": {
      "name": "python"
    }
  },
  "cells": [
    {
      "cell_type": "markdown",
      "source": [
        "# Importing Libraries"
      ],
      "metadata": {
        "id": "q9BXgo0dYeu2"
      }
    },
    {
      "cell_type": "code",
      "execution_count": null,
      "metadata": {
        "id": "16TbzgUBSaW7"
      },
      "outputs": [],
      "source": [
        "import os\n",
        "import pandas as pd\n",
        "import numpy as np\n",
        "import matplotlib.pyplot as plt\n",
        "import seaborn as sns\n",
        "import missingno as msno # To visualize missing value\n",
        "import plotly.graph_objects as go # To Generate Graphs\n",
        "import plotly.express as px # To Generate box plot for statistical representation\n",
        "%matplotlib inline\n",
        "from sklearn.metrics import classification_report, accuracy_score, f1_score\n",
        "from sklearn.model_selection import train_test_split\n",
        "\n",
        "from sklearn.neighbors import KNeighborsClassifier\n",
        "from sklearn.linear_model import LogisticRegression\n",
        "from sklearn.svm import SVC\n",
        "from sklearn.ensemble import VotingClassifier\n",
        "from sklearn.ensemble import StackingClassifier\n",
        "from sklearn.metrics import mean_squared_error\n",
        "from sklearn.metrics import mean_absolute_error"
      ]
    },
    {
      "cell_type": "markdown",
      "source": [
        "\n",
        "#EDA - Heart Disease Dataset"
      ],
      "metadata": {
        "id": "iBXPB48-DSUh"
      }
    },
    {
      "cell_type": "markdown",
      "source": [
        "FEATURE EXPLANATION\n",
        "1. age (Age in years)\n",
        "2.  sex : (1 = male, 0 = female)\n",
        "3. cp (Chest Pain Type): [ 0: asymptomatic, 1: atypical angina, 2: non-anginal pain, 3: typical angina]\n",
        "4. trestbps (Resting Blood Pressure in mm/hg )\n",
        "5. chol (Serum Cholesterol in mg/dl)\n",
        "6. fps (Fasting Blood Sugar > 120 mg/dl): [0 = no, 1 = yes]\n",
        "7. restecg (Resting ECG): [0: showing probable or definite left ventricular \n",
        "8. thalach (maximum heart rate achieved)\n",
        "9. exang (Exercise Induced Angina): [1 = yes, 0 = no]\n",
        "10. oldpeak (ST depression induced by exercise relative to rest)\n",
        "11. slope (the slope of the peak exercise ST segment): [0: downsloping; 1:  flat; 2: upsloping]\n",
        "12. ca [number of major vessels (0–3)\n",
        "13. thal : [1 = normal, 2 = fixed defect, 3 = reversible defect]\n",
        "14. target: [0 = disease, 1 = no disease]"
      ],
      "metadata": {
        "id": "GPHUtLFdMfJT"
      }
    },
    {
      "cell_type": "code",
      "source": [
        "# #column names\n",
        "col_names = ['age', 'sex', 'cp', 'trestbps', 'chol', 'fbs', 'restecg', 'thalach', 'exang', 'oldpeak', 'slope', 'ca', 'thal', 'target']\n",
        "#read data\n",
        "df = pd.read_csv('/content/processed.cleveland.data', names=col_names, header=None)\n"
      ],
      "metadata": {
        "id": "M3pAzPTXStxa"
      },
      "execution_count": null,
      "outputs": []
    },
    {
      "cell_type": "code",
      "source": [
        "df.shape"
      ],
      "metadata": {
        "id": "VQ8D5s3pGdVN",
        "colab": {
          "base_uri": "https://localhost:8080/"
        },
        "outputId": "34674ffc-a08c-4ec0-d135-1737e60c0626"
      },
      "execution_count": null,
      "outputs": [
        {
          "output_type": "execute_result",
          "data": {
            "text/plain": [
              "(303, 14)"
            ]
          },
          "metadata": {},
          "execution_count": 230
        }
      ]
    },
    {
      "cell_type": "markdown",
      "source": [
        "303 instances, 14 attrbutes </br>"
      ],
      "metadata": {
        "id": "yLV8o9DrSEUQ"
      }
    },
    {
      "cell_type": "code",
      "source": [
        "#find null values\n",
        "df.info()"
      ],
      "metadata": {
        "id": "i7OS2OgLHG48",
        "colab": {
          "base_uri": "https://localhost:8080/"
        },
        "outputId": "b669c577-d726-4cb2-ae4e-2b939ddd0f06"
      },
      "execution_count": null,
      "outputs": [
        {
          "output_type": "stream",
          "name": "stdout",
          "text": [
            "<class 'pandas.core.frame.DataFrame'>\n",
            "RangeIndex: 303 entries, 0 to 302\n",
            "Data columns (total 14 columns):\n",
            " #   Column    Non-Null Count  Dtype  \n",
            "---  ------    --------------  -----  \n",
            " 0   age       303 non-null    float64\n",
            " 1   sex       303 non-null    float64\n",
            " 2   cp        303 non-null    float64\n",
            " 3   trestbps  303 non-null    float64\n",
            " 4   chol      303 non-null    float64\n",
            " 5   fbs       303 non-null    float64\n",
            " 6   restecg   303 non-null    float64\n",
            " 7   thalach   303 non-null    float64\n",
            " 8   exang     303 non-null    float64\n",
            " 9   oldpeak   303 non-null    float64\n",
            " 10  slope     303 non-null    float64\n",
            " 11  ca        303 non-null    object \n",
            " 12  thal      303 non-null    object \n",
            " 13  target    303 non-null    int64  \n",
            "dtypes: float64(11), int64(1), object(2)\n",
            "memory usage: 33.3+ KB\n"
          ]
        }
      ]
    },
    {
      "cell_type": "code",
      "source": [
        "#cleaning 'ca' feature\n",
        "#find unique values in 'ca'\n",
        "df['ca'].unique()\n",
        "\n",
        "#'ca' should have [0-3] values, hence we tackle the '?' \n",
        "print(\"unique values:\", df['ca'].unique())\n",
        "print(\"count for each value:\", \"\\n\", df.ca.value_counts(), \"\\n\")\n",
        "\n",
        "#preprocess\n",
        "#611 values are missing for 'ca' i.e. '?'\n",
        "#replace '?, 0, 1, 2' with NaN\n",
        "df.loc[df['ca']=='?', 'ca'] = np.NaN\n",
        "\n",
        "#result\n",
        "print(\"unique values after processing:\", df['ca'].unique())\n",
        "print(\"count for each value after processing:\", \"\\n\", df.ca.value_counts())"
      ],
      "metadata": {
        "colab": {
          "base_uri": "https://localhost:8080/"
        },
        "id": "HDiG_M8Okn4q",
        "outputId": "780276ef-6bc2-43b4-94a7-ce85e2a249e9"
      },
      "execution_count": null,
      "outputs": [
        {
          "output_type": "stream",
          "name": "stdout",
          "text": [
            "unique values: ['0.0' '3.0' '2.0' '1.0' '?']\n",
            "count for each value: \n",
            " 0.0    176\n",
            "1.0     65\n",
            "2.0     38\n",
            "3.0     20\n",
            "?        4\n",
            "Name: ca, dtype: int64 \n",
            "\n",
            "unique values after processing: ['0.0' '3.0' '2.0' '1.0' nan]\n",
            "count for each value after processing: \n",
            " 0.0    176\n",
            "1.0     65\n",
            "2.0     38\n",
            "3.0     20\n",
            "Name: ca, dtype: int64\n"
          ]
        }
      ]
    },
    {
      "cell_type": "code",
      "source": [
        "#cleaning 'thal' feature\n",
        "#find unique values in 'thal'\n",
        "df['thal'].unique()\n",
        "\n",
        "\n",
        "print(\"unique values:\", df['thal'].unique())\n",
        "print(\"count for each value:\", \"\\n\", df.thal.value_counts(), \"\\n\")\n",
        "\n",
        "#preprocess\n",
        "#486 values are missing for 'ca' i.e. '?'\n",
        "#replace '? with NaN\n",
        "df.loc[df['thal']=='?', 'thal'] = np.NaN\n",
        "\n",
        "#result\n",
        "print(\"unique values after processing:\", df['thal'].unique())\n",
        "print(\"count for each value after processing:\", \"\\n\", df.thal.value_counts())"
      ],
      "metadata": {
        "colab": {
          "base_uri": "https://localhost:8080/"
        },
        "id": "bFP473UZkpiV",
        "outputId": "562be869-8daf-40c9-bb05-905319c979cb"
      },
      "execution_count": null,
      "outputs": [
        {
          "output_type": "stream",
          "name": "stdout",
          "text": [
            "unique values: ['6.0' '3.0' '7.0' '?']\n",
            "count for each value: \n",
            " 3.0    166\n",
            "7.0    117\n",
            "6.0     18\n",
            "?        2\n",
            "Name: thal, dtype: int64 \n",
            "\n",
            "unique values after processing: ['6.0' '3.0' '7.0' nan]\n",
            "count for each value after processing: \n",
            " 3.0    166\n",
            "7.0    117\n",
            "6.0     18\n",
            "Name: thal, dtype: int64\n"
          ]
        }
      ]
    },
    {
      "cell_type": "code",
      "source": [
        "#find range of each attribute\n",
        "df.nunique()"
      ],
      "metadata": {
        "colab": {
          "base_uri": "https://localhost:8080/"
        },
        "id": "BwBtcIAE6H1Z",
        "outputId": "ed344ce7-0a4d-40d3-8228-1e32fdefb6e2"
      },
      "execution_count": null,
      "outputs": [
        {
          "output_type": "execute_result",
          "data": {
            "text/plain": [
              "age          41\n",
              "sex           2\n",
              "cp            4\n",
              "trestbps     50\n",
              "chol        152\n",
              "fbs           2\n",
              "restecg       3\n",
              "thalach      91\n",
              "exang         2\n",
              "oldpeak      40\n",
              "slope         3\n",
              "ca            4\n",
              "thal          3\n",
              "target        5\n",
              "dtype: int64"
            ]
          },
          "metadata": {},
          "execution_count": 234
        }
      ]
    },
    {
      "cell_type": "code",
      "source": [
        "#find mssing values\n",
        "df.isnull().sum()"
      ],
      "metadata": {
        "colab": {
          "base_uri": "https://localhost:8080/"
        },
        "id": "-9gi5z1M7-3q",
        "outputId": "4c3187c8-1b4f-461a-aea9-8fb95b430a48"
      },
      "execution_count": null,
      "outputs": [
        {
          "output_type": "execute_result",
          "data": {
            "text/plain": [
              "age         0\n",
              "sex         0\n",
              "cp          0\n",
              "trestbps    0\n",
              "chol        0\n",
              "fbs         0\n",
              "restecg     0\n",
              "thalach     0\n",
              "exang       0\n",
              "oldpeak     0\n",
              "slope       0\n",
              "ca          4\n",
              "thal        2\n",
              "target      0\n",
              "dtype: int64"
            ]
          },
          "metadata": {},
          "execution_count": 235
        }
      ]
    },
    {
      "cell_type": "code",
      "source": [
        "\n",
        "#replace missing values with median value\n",
        "df = df.fillna(df.median())\n",
        "df.isnull().sum()"
      ],
      "metadata": {
        "colab": {
          "base_uri": "https://localhost:8080/"
        },
        "id": "hLPCuhIOkxf9",
        "outputId": "ab95a233-37f3-497c-ddd2-4dcb97dbe798"
      },
      "execution_count": null,
      "outputs": [
        {
          "output_type": "execute_result",
          "data": {
            "text/plain": [
              "age         0\n",
              "sex         0\n",
              "cp          0\n",
              "trestbps    0\n",
              "chol        0\n",
              "fbs         0\n",
              "restecg     0\n",
              "thalach     0\n",
              "exang       0\n",
              "oldpeak     0\n",
              "slope       0\n",
              "ca          0\n",
              "thal        0\n",
              "target      0\n",
              "dtype: int64"
            ]
          },
          "metadata": {},
          "execution_count": 236
        }
      ]
    },
    {
      "cell_type": "markdown",
      "source": [
        "No null values found"
      ],
      "metadata": {
        "id": "ZtprlXzvhVMH"
      }
    },
    {
      "cell_type": "code",
      "source": [
        "#change datatype of 'ca' and 'thal' from object to float \n",
        "\n",
        "df['ca']=df.ca.astype(float)\n",
        "df['thal']=df.thal.astype(float)\n",
        "df.dtypes"
      ],
      "metadata": {
        "colab": {
          "base_uri": "https://localhost:8080/"
        },
        "id": "8Fxivbnt6H4W",
        "outputId": "830999af-7b38-4185-adfe-aae3aa0b4561"
      },
      "execution_count": null,
      "outputs": [
        {
          "output_type": "execute_result",
          "data": {
            "text/plain": [
              "age         float64\n",
              "sex         float64\n",
              "cp          float64\n",
              "trestbps    float64\n",
              "chol        float64\n",
              "fbs         float64\n",
              "restecg     float64\n",
              "thalach     float64\n",
              "exang       float64\n",
              "oldpeak     float64\n",
              "slope       float64\n",
              "ca          float64\n",
              "thal        float64\n",
              "target        int64\n",
              "dtype: object"
            ]
          },
          "metadata": {},
          "execution_count": 237
        }
      ]
    },
    {
      "cell_type": "code",
      "source": [
        "#find duplicate rows and delete\n",
        "duplicated= df.duplicated().sum()\n",
        "duplicated\n",
        "#no duplicates found"
      ],
      "metadata": {
        "colab": {
          "base_uri": "https://localhost:8080/"
        },
        "id": "DRYTay0S8u8x",
        "outputId": "253a3fbe-b84d-4174-9793-044cbfc27b75"
      },
      "execution_count": null,
      "outputs": [
        {
          "output_type": "execute_result",
          "data": {
            "text/plain": [
              "0"
            ]
          },
          "metadata": {},
          "execution_count": 238
        }
      ]
    },
    {
      "cell_type": "code",
      "source": [
        "# outlier removal\n",
        "#define continuous variable & plot\n",
        "continous_features = ['age','trestbps','chol','oldpeak', 'thalach']  \n",
        "def outliers(df_out, drop = False):\n",
        "    for each_feature in df_out.columns:\n",
        "        feature_data = df_out[each_feature]\n",
        "        Q1 = np.percentile(feature_data, 25.) # 25th percentile of the data of the given feature\n",
        "        Q3 = np.percentile(feature_data, 75.) # 75th percentile of the data of the given feature\n",
        "        IQR = Q3-Q1 #Interquartile Range\n",
        "        outlier_step = IQR * 1.5 \n",
        "        outliers = feature_data[~((feature_data >= Q1 - outlier_step) & (feature_data <= Q3 + outlier_step))].index.tolist()  \n",
        "        if not drop:\n",
        "            print('For the feature {}, No of Outliers is {}'.format(each_feature, len(outliers)))\n",
        "        if drop:\n",
        "            df.drop(outliers, inplace = True, errors = 'ignore')\n",
        "            print('Outliers from {} feature removed'.format(each_feature))\n",
        "\n",
        "outliers(df[continous_features])"
      ],
      "metadata": {
        "colab": {
          "base_uri": "https://localhost:8080/"
        },
        "id": "7hzgOdkYAwbW",
        "outputId": "49c87114-e698-4b66-b57b-764cfd64ab1b"
      },
      "execution_count": null,
      "outputs": [
        {
          "output_type": "stream",
          "name": "stdout",
          "text": [
            "For the feature age, No of Outliers is 0\n",
            "For the feature trestbps, No of Outliers is 9\n",
            "For the feature chol, No of Outliers is 5\n",
            "For the feature oldpeak, No of Outliers is 5\n",
            "For the feature thalach, No of Outliers is 1\n"
          ]
        }
      ]
    },
    {
      "cell_type": "code",
      "source": [
        "outliers(df[continous_features], drop=True)"
      ],
      "metadata": {
        "colab": {
          "base_uri": "https://localhost:8080/"
        },
        "id": "y9dFqGGaAwdt",
        "outputId": "fa7a4bc4-ff2d-4d09-d481-da5b5c268735"
      },
      "execution_count": null,
      "outputs": [
        {
          "output_type": "stream",
          "name": "stdout",
          "text": [
            "Outliers from age feature removed\n",
            "Outliers from trestbps feature removed\n",
            "Outliers from chol feature removed\n",
            "Outliers from oldpeak feature removed\n",
            "Outliers from thalach feature removed\n"
          ]
        }
      ]
    },
    {
      "cell_type": "markdown",
      "source": [
        "## Test Train split"
      ],
      "metadata": {
        "id": "93H_nm7Xi3zL"
      }
    },
    {
      "cell_type": "code",
      "source": [
        "X = df.drop(['target'], axis = 1)\n",
        "y = df['target']\n",
        "#split train and test\n",
        "X_HD_train, X_HD_test, Y_HD_train, Y_HD_test = train_test_split(X, y, test_size=0.3, random_state=4)\n",
        "print ('Train+Val set:  ', X_HD_train.shape,  Y_HD_train.shape)\n",
        "print ('Test set:   ', X_HD_test.shape,  Y_HD_test.shape)"
      ],
      "metadata": {
        "colab": {
          "base_uri": "https://localhost:8080/"
        },
        "id": "gc0wzVlKSf1y",
        "outputId": "857cf5f1-a6c8-41b8-a71b-badd40b05019"
      },
      "execution_count": null,
      "outputs": [
        {
          "output_type": "stream",
          "name": "stdout",
          "text": [
            "Train+Val set:   (198, 13) (198,)\n",
            "Test set:    (86, 13) (86,)\n"
          ]
        }
      ]
    },
    {
      "cell_type": "code",
      "source": [
        "Y_HD_train[Y_HD_train > 0] = 1\n",
        "Y_HD_test[Y_HD_test > 0] = 1"
      ],
      "metadata": {
        "id": "tUsZYayppetz"
      },
      "execution_count": null,
      "outputs": []
    },
    {
      "cell_type": "markdown",
      "source": [
        "## SVM, LR, KNN for Heart Disease"
      ],
      "metadata": {
        "id": "n3r5XDxmrljD"
      }
    },
    {
      "cell_type": "code",
      "source": [
        "#SVM Heart Disease disease\n",
        "SVCModel =SVC(kernel= 'rbf', max_iter=1000,C=10,gamma='auto')\n",
        "SVCModel = SVCModel.fit(X_HD_train, Y_HD_train)\n",
        "y_HD_pred = SVCModel.predict(X_HD_test)\n",
        "SVM_Acc=accuracy_score(Y_HD_test, y_HD_pred)\n",
        "SVM_MSE=mean_squared_error(Y_HD_test, y_HD_pred)\n",
        "print(\"SVM Accuracy for Heart Disease dataset\", accuracy_score(Y_HD_test, y_HD_pred))\n",
        "\n",
        "#LR Heart Disease disease\n",
        "LGnModel =LogisticRegression(penalty='l1',solver='liblinear',C=1.0,random_state=50)\n",
        "LGnModel = LGnModel.fit(X_HD_train, Y_HD_train)\n",
        "y_HD_pred = LGnModel.predict(X_HD_test)\n",
        "LR_MSE=mean_squared_error(Y_HD_test, y_HD_pred)\n",
        "LR_Acc=accuracy_score(Y_HD_test, y_HD_pred)\n",
        "print(\"LR Accuracy for Heart Disease dataset\", accuracy_score(Y_HD_test, y_HD_pred))\n",
        "\n",
        "#KNN Heart Disease disease\n",
        "KNNModel = KNeighborsClassifier(n_neighbors=5, weights='uniform', algorithm='auto', leaf_size=30, p=2, metric='minkowski', metric_params=None, n_jobs=None)\n",
        "KNNModel = KNNModel.fit(X_HD_train, Y_HD_train)\n",
        "y_HD_pred = KNNModel.predict(X_HD_test)\n",
        "KNN_MSE=mean_squared_error(Y_HD_test, y_HD_pred)\n",
        "KNN_Acc=accuracy_score(Y_HD_test, y_HD_pred)\n",
        "print(\"KNN Accuracy for Heart Disease dataset\", accuracy_score(Y_HD_test, y_HD_pred))\n"
      ],
      "metadata": {
        "colab": {
          "base_uri": "https://localhost:8080/"
        },
        "id": "oqVUT0P1ShKM",
        "outputId": "8e3f3d86-f205-4bbe-b59e-15da1f3d0b87"
      },
      "execution_count": null,
      "outputs": [
        {
          "output_type": "stream",
          "name": "stdout",
          "text": [
            "SVM Accuracy for Heart Disease dataset 0.6162790697674418\n",
            "LR Accuracy for Heart Disease dataset 0.872093023255814\n",
            "KNN Accuracy for Heart Disease dataset 0.627906976744186\n"
          ]
        }
      ]
    },
    {
      "cell_type": "code",
      "source": [
        "import matplotlib.pyplot as plt\n",
        "fig = plt.figure()\n",
        "bars = ['SVM', 'LR', 'KNN']\n",
        "height = [SVM_Acc, LR_Acc, KNN_Acc]\n",
        "x_pos = np.arange(len(bars))\n",
        "plt.bar(x_pos, height,  color=['blue', 'red', 'green'])\n",
        "plt.xticks(x_pos, bars)\n",
        "# Show graph\n",
        "plt.title(\"Comparison of models Accuracy for Heart Disease Dataset\")\n",
        "plt.show()"
      ],
      "metadata": {
        "colab": {
          "base_uri": "https://localhost:8080/",
          "height": 281
        },
        "id": "HrIGl5MXdHlb",
        "outputId": "55d507dd-89ec-4926-bcdb-bd79c8797302"
      },
      "execution_count": null,
      "outputs": [
        {
          "output_type": "display_data",
          "data": {
            "text/plain": [
              "<Figure size 432x288 with 1 Axes>"
            ],
            "image/png": "[encoded data removed]"
          },
          "metadata": {
            "needs_background": "light"
          }
        }
      ]
    },
    {
      "cell_type": "markdown",
      "source": [
        "##Majority Voting"
      ],
      "metadata": {
        "id": "0xEPM4E4brxq"
      }
    },
    {
      "cell_type": "code",
      "source": [
        "VotingClassifierModel = VotingClassifier(estimators=[('SVCModel',SVCModel),('LGnModel',LGnModel),('KNNModel',KNNModel)])\n",
        "VotingClassifierModel.fit(X_HD_train, Y_HD_train)"
      ],
      "metadata": {
        "id": "YHwyPbwr48Vz",
        "colab": {
          "base_uri": "https://localhost:8080/"
        },
        "outputId": "b8f7ef25-9df3-47f3-b27d-6fe39fe11871"
      },
      "execution_count": null,
      "outputs": [
        {
          "output_type": "execute_result",
          "data": {
            "text/plain": [
              "VotingClassifier(estimators=[('SVCModel',\n",
              "                              SVC(C=10, gamma='auto', max_iter=1000)),\n",
              "                             ('LGnModel',\n",
              "                              LogisticRegression(penalty='l1', random_state=50,\n",
              "                                                 solver='liblinear')),\n",
              "                             ('KNNModel', KNeighborsClassifier())])"
            ]
          },
          "metadata": {},
          "execution_count": 245
        }
      ]
    },
    {
      "cell_type": "code",
      "source": [
        "y_HD_pred = VotingClassifierModel.predict(X_HD_test)\n",
        "# Y_HD_test = np.argmax(Y_HD_test, axis=1)\n",
        "print('Results for majority voting in heart disease dataset')\n",
        "print(accuracy_score(Y_HD_test, y_HD_pred))\n",
        "MV_HD=mean_squared_error(Y_HD_test, y_HD_pred)\n",
        "MV_HD2=mean_absolute_error(Y_HD_test, y_HD_pred)\n",
        "print(\"Classification Report for majority voting in heart disease dataset\", \"\\n\", classification_report(y_HD_pred, Y_HD_test))"
      ],
      "metadata": {
        "id": "Bo8kRrLD5mCS",
        "colab": {
          "base_uri": "https://localhost:8080/"
        },
        "outputId": "ac8116c7-d490-4440-d1ab-90d004e5dcd4"
      },
      "execution_count": null,
      "outputs": [
        {
          "output_type": "stream",
          "name": "stdout",
          "text": [
            "Results for majority voting in heart disease dataset\n",
            "0.7674418604651163\n",
            "Classification Report for majority voting in heart disease dataset \n",
            "               precision    recall  f1-score   support\n",
            "\n",
            "           0       0.96      0.74      0.84        69\n",
            "           1       0.45      0.88      0.60        17\n",
            "\n",
            "    accuracy                           0.77        86\n",
            "   macro avg       0.71      0.81      0.72        86\n",
            "weighted avg       0.86      0.77      0.79        86\n",
            "\n"
          ]
        }
      ]
    },
    {
      "cell_type": "markdown",
      "source": [
        "## Stacking Classifier"
      ],
      "metadata": {
        "id": "PAshHvQriHBd"
      }
    },
    {
      "cell_type": "code",
      "source": [
        "StackingClassifier = StackingClassifier(estimators=[('SVCModel',SVCModel),('LGnModel',LGnModel),('KNNModel',KNNModel)])\n",
        "StackingClassifier.fit(X_HD_train, Y_HD_train)"
      ],
      "metadata": {
        "colab": {
          "base_uri": "https://localhost:8080/"
        },
        "id": "klIUz-boiGBg",
        "outputId": "54bd4bca-cf72-4aec-91e3-b968b12371e8"
      },
      "execution_count": null,
      "outputs": [
        {
          "output_type": "execute_result",
          "data": {
            "text/plain": [
              "StackingClassifier(estimators=[('SVCModel',\n",
              "                                SVC(C=10, gamma='auto', max_iter=1000)),\n",
              "                               ('LGnModel',\n",
              "                                LogisticRegression(penalty='l1',\n",
              "                                                   random_state=50,\n",
              "                                                   solver='liblinear')),\n",
              "                               ('KNNModel', KNeighborsClassifier())])"
            ]
          },
          "metadata": {},
          "execution_count": 247
        }
      ]
    },
    {
      "cell_type": "code",
      "source": [
        "y_HD_pred = StackingClassifier.predict(X_HD_test)\n",
        "print('Results for Stacking in heart disease dataset')\n",
        "S_HD=mean_squared_error(Y_HD_test, y_HD_pred)\n",
        "S_HD2=mean_absolute_error(Y_HD_test, y_HD_pred)\n",
        "print(accuracy_score(Y_HD_test, y_HD_pred))"
      ],
      "metadata": {
        "colab": {
          "base_uri": "https://localhost:8080/"
        },
        "id": "zJl7apwyi2Ig",
        "outputId": "58b2ba2e-3d0a-46b6-fd36-6b8d74d33c46"
      },
      "execution_count": null,
      "outputs": [
        {
          "output_type": "stream",
          "name": "stdout",
          "text": [
            "Results for Stacking in heart disease dataset\n",
            "0.8604651162790697\n"
          ]
        }
      ]
    },
    {
      "cell_type": "markdown",
      "source": [
        "## Average Classifier"
      ],
      "metadata": {
        "id": "GeXa6CFXjjox"
      }
    },
    {
      "cell_type": "code",
      "source": [
        "SVCModel.fit(X_HD_train, Y_HD_train)\n",
        "LGnModel.fit(X_HD_train, Y_HD_train)\n",
        "KNNModel.fit(X_HD_train, Y_HD_train)\n"
      ],
      "metadata": {
        "colab": {
          "base_uri": "https://localhost:8080/"
        },
        "id": "9oKrEJVZjnpw",
        "outputId": "b752087f-9f59-461b-a514-8473338817de"
      },
      "execution_count": null,
      "outputs": [
        {
          "output_type": "execute_result",
          "data": {
            "text/plain": [
              "KNeighborsClassifier()"
            ]
          },
          "metadata": {},
          "execution_count": 249
        }
      ]
    },
    {
      "cell_type": "code",
      "source": [
        "svc_HD_pred = SVCModel.predict(X_HD_test)\n",
        "lr_HD_pred = LGnModel.predict(X_HD_test)\n",
        "knn_HD_pred = KNNModel.predict(X_HD_test)"
      ],
      "metadata": {
        "id": "Lh68EYuLjntm"
      },
      "execution_count": null,
      "outputs": []
    },
    {
      "cell_type": "code",
      "source": [
        "# final prediction after averaging on the prediction of all 3 models\n",
        "HD_pred_final = (svc_HD_pred+lr_HD_pred+knn_HD_pred)/3.0\n",
        "Avg_HD=mean_squared_error(Y_HD_test, HD_pred_final)\n",
        "Avg_HD2=mean_absolute_error(Y_HD_test, y_HD_pred)\n",
        "\n",
        "print(\"Majority Voting MSE for Heart Disease dataset\", mean_squared_error(Y_HD_test, HD_pred_final))"
      ],
      "metadata": {
        "colab": {
          "base_uri": "https://localhost:8080/"
        },
        "id": "P05u2ZZxnrRh",
        "outputId": "e9a95c70-5c1f-4bd8-fb38-f198c9a6ddc6"
      },
      "execution_count": null,
      "outputs": [
        {
          "output_type": "stream",
          "name": "stdout",
          "text": [
            "Majority Voting MSE for Heart Disease dataset 0.18604651162790697\n"
          ]
        }
      ]
    },
    {
      "cell_type": "markdown",
      "source": [
        "##Comparing all the models\n"
      ],
      "metadata": {
        "id": "NC5lYwFMEAA3"
      }
    },
    {
      "cell_type": "code",
      "source": [
        "import matplotlib.pyplot as plt\n",
        "fig = plt.figure()\n",
        "bars = ['Majority Voting', 'Stacking', 'Avg Classifier']\n",
        "height = [MV_HD, S_HD, Avg_HD]\n",
        "x_pos = np.arange(len(bars))\n",
        "plt.bar(x_pos, height,  color=['blue', 'red', 'green'])\n",
        "plt.xticks(x_pos, bars)\n",
        "# Show graph\n",
        "plt.title(\"Comparison of models MSE for Heart Disease Dataset\")\n",
        "plt.show()"
      ],
      "metadata": {
        "colab": {
          "base_uri": "https://localhost:8080/",
          "height": 281
        },
        "id": "f01Sowo8EBLz",
        "outputId": "b34b44a5-fa0e-41ee-fb50-9d11002bf435"
      },
      "execution_count": null,
      "outputs": [
        {
          "output_type": "display_data",
          "data": {
            "text/plain": [
              "<Figure size 432x288 with 1 Axes>"
            ],
            "image/png": "[encoded data removed]"
          },
          "metadata": {
            "needs_background": "light"
          }
        }
      ]
    },
    {
      "cell_type": "code",
      "source": [
        "import matplotlib.pyplot as plt\n",
        "fig = plt.figure()\n",
        "bars = ['Majority Voting', 'Stacking', 'Avg Classifier']\n",
        "height = [MV_HD2, S_HD2, Avg_HD2]\n",
        "x_pos = np.arange(len(bars))\n",
        "plt.bar(x_pos, height,  color=['blue', 'red', 'green'])\n",
        "plt.xticks(x_pos, bars)\n",
        "# Show graph\n",
        "plt.title(\"Comparison of models MAE for Heart Disease Dataset\")\n",
        "plt.show()"
      ],
      "metadata": {
        "colab": {
          "base_uri": "https://localhost:8080/",
          "height": 281
        },
        "id": "1RD9IZq31PmE",
        "outputId": "b27d273a-b7c7-4964-92dc-711a6229f763"
      },
      "execution_count": null,
      "outputs": [
        {
          "output_type": "display_data",
          "data": {
            "text/plain": [
              "<Figure size 432x288 with 1 Axes>"
            ],
            "image/png": "[encoded data removed]"
          },
          "metadata": {
            "needs_background": "light"
          }
        }
      ]
    },
    {
      "cell_type": "markdown",
      "source": [
        "# EDA- Breast Cancer"
      ],
      "metadata": {
        "id": "1HajCcq1wbOz"
      }
    },
    {
      "cell_type": "code",
      "source": [
        "df = pd.read_csv('/content/breast cancer data.csv')"
      ],
      "metadata": {
        "id": "xw1n5L-LwfoN"
      },
      "execution_count": null,
      "outputs": []
    },
    {
      "cell_type": "code",
      "source": [
        "df.head(2)"
      ],
      "metadata": {
        "colab": {
          "base_uri": "https://localhost:8080/",
          "height": 223
        },
        "id": "3m8d1blhwu7A",
        "outputId": "801a24ca-e208-437c-f9ff-2793bdcc701b"
      },
      "execution_count": null,
      "outputs": [
        {
          "output_type": "execute_result",
          "data": {
            "text/plain": [
              "       id diagnosis  radius_mean  texture_mean  perimeter_mean  area_mean  \\\n",
              "0  842302         M        17.99         10.38           122.8     1001.0   \n",
              "1  842517         M        20.57         17.77           132.9     1326.0   \n",
              "\n",
              "   smoothness_mean  compactness_mean  concavity_mean  concave points_mean  \\\n",
              "0          0.11840           0.27760          0.3001              0.14710   \n",
              "1          0.08474           0.07864          0.0869              0.07017   \n",
              "\n",
              "   ...  texture_worst  perimeter_worst  area_worst  smoothness_worst  \\\n",
              "0  ...          17.33            184.6      2019.0            0.1622   \n",
              "1  ...          23.41            158.8      1956.0            0.1238   \n",
              "\n",
              "   compactness_worst  concavity_worst  concave points_worst  symmetry_worst  \\\n",
              "0             0.6656           0.7119                0.2654          0.4601   \n",
              "1             0.1866           0.2416                0.1860          0.2750   \n",
              "\n",
              "   fractal_dimension_worst  Unnamed: 32  \n",
              "0                  0.11890          NaN  \n",
              "1                  0.08902          NaN  \n",
              "\n",
              "[2 rows x 33 columns]"
            ],
            "text/html": [
              "\n",
              "  <div id=\"df-43544444-ce7a-4be9-aa86-ef5fcd58b8cb\">\n",
              "    <div class=\"colab-df-container\">\n",
              "      <div>\n",
              "<style scoped>\n",
              "    .dataframe tbody tr th:only-of-type {\n",
              "        vertical-align: middle;\n",
              "    }\n",
              "\n",
              "    .dataframe tbody tr th {\n",
              "        vertical-align: top;\n",
              "    }\n",
              "\n",
              "    .dataframe thead th {\n",
              "        text-align: right;\n",
              "    }\n",
              "</style>\n",
              "<table border=\"1\" class=\"dataframe\">\n",
              "  <thead>\n",
              "    <tr style=\"text-align: right;\">\n",
              "      <th></th>\n",
              "      <th>id</th>\n",
              "      <th>diagnosis</th>\n",
              "      <th>radius_mean</th>\n",
              "      <th>texture_mean</th>\n",
              "      <th>perimeter_mean</th>\n",
              "      <th>area_mean</th>\n",
              "      <th>smoothness_mean</th>\n",
              "      <th>compactness_mean</th>\n",
              "      <th>concavity_mean</th>\n",
              "      <th>concave points_mean</th>\n",
              "      <th>...</th>\n",
              "      <th>texture_worst</th>\n",
              "      <th>perimeter_worst</th>\n",
              "      <th>area_worst</th>\n",
              "      <th>smoothness_worst</th>\n",
              "      <th>compactness_worst</th>\n",
              "      <th>concavity_worst</th>\n",
              "      <th>concave points_worst</th>\n",
              "      <th>symmetry_worst</th>\n",
              "      <th>fractal_dimension_worst</th>\n",
              "      <th>Unnamed: 32</th>\n",
              "    </tr>\n",
              "  </thead>\n",
              "  <tbody>\n",
              "    <tr>\n",
              "      <th>0</th>\n",
              "      <td>842302</td>\n",
              "      <td>M</td>\n",
              "      <td>17.99</td>\n",
              "      <td>10.38</td>\n",
              "      <td>122.8</td>\n",
              "      <td>1001.0</td>\n",
              "      <td>0.11840</td>\n",
              "      <td>0.27760</td>\n",
              "      <td>0.3001</td>\n",
              "      <td>0.14710</td>\n",
              "      <td>...</td>\n",
              "      <td>17.33</td>\n",
              "      <td>184.6</td>\n",
              "      <td>2019.0</td>\n",
              "      <td>0.1622</td>\n",
              "      <td>0.6656</td>\n",
              "      <td>0.7119</td>\n",
              "      <td>0.2654</td>\n",
              "      <td>0.4601</td>\n",
              "      <td>0.11890</td>\n",
              "      <td>NaN</td>\n",
              "    </tr>\n",
              "    <tr>\n",
              "      <th>1</th>\n",
              "      <td>842517</td>\n",
              "      <td>M</td>\n",
              "      <td>20.57</td>\n",
              "      <td>17.77</td>\n",
              "      <td>132.9</td>\n",
              "      <td>1326.0</td>\n",
              "      <td>0.08474</td>\n",
              "      <td>0.07864</td>\n",
              "      <td>0.0869</td>\n",
              "      <td>0.07017</td>\n",
              "      <td>...</td>\n",
              "      <td>23.41</td>\n",
              "      <td>158.8</td>\n",
              "      <td>1956.0</td>\n",
              "      <td>0.1238</td>\n",
              "      <td>0.1866</td>\n",
              "      <td>0.2416</td>\n",
              "      <td>0.1860</td>\n",
              "      <td>0.2750</td>\n",
              "      <td>0.08902</td>\n",
              "      <td>NaN</td>\n",
              "    </tr>\n",
              "  </tbody>\n",
              "</table>\n",
              "<p>2 rows × 33 columns</p>\n",
              "</div>\n",
              "      <button class=\"colab-df-convert\" onclick=\"convertToInteractive('df-43544444-ce7a-4be9-aa86-ef5fcd58b8cb')\"\n",
              "              title=\"Convert this dataframe to an interactive table.\"\n",
              "              style=\"display:none;\">\n",
              "        \n",
              "  <svg xmlns=\"http://www.w3.org/2000/svg\" height=\"24px\"viewBox=\"0 0 24 24\"\n",
              "       width=\"24px\">\n",
              "    <path d=\"M0 0h24v24H0V0z\" fill=\"none\"/>\n",
              "    <path d=\"M18.56 5.44l.94 2.06.94-2.06 2.06-.94-2.06-.94-.94-2.06-.94 2.06-2.06.94zm-11 1L8.5 8.5l.94-2.06 2.06-.94-2.06-.94L8.5 2.5l-.94 2.06-2.06.94zm10 10l.94 2.06.94-2.06 2.06-.94-2.06-.94-.94-2.06-.94 2.06-2.06.94z\"/><path d=\"M17.41 7.96l-1.37-1.37c-.4-.4-.92-.59-1.43-.59-.52 0-1.04.2-1.43.59L10.3 9.45l-7.72 7.72c-.78.78-.78 2.05 0 2.83L4 21.41c.39.39.9.59 1.41.59.51 0 1.02-.2 1.41-.59l7.78-7.78 2.81-2.81c.8-.78.8-2.07 0-2.86zM5.41 20L4 18.59l7.72-7.72 1.47 1.35L5.41 20z\"/>\n",
              "  </svg>\n",
              "      </button>\n",
              "      \n",
              "  <style>\n",
              "    .colab-df-container {\n",
              "      display:flex;\n",
              "      flex-wrap:wrap;\n",
              "      gap: 12px;\n",
              "    }\n",
              "\n",
              "    .colab-df-convert {\n",
              "      background-color: #E8F0FE;\n",
              "      border: none;\n",
              "      border-radius: 50%;\n",
              "      cursor: pointer;\n",
              "      display: none;\n",
              "      fill: #1967D2;\n",
              "      height: 32px;\n",
              "      padding: 0 0 0 0;\n",
              "      width: 32px;\n",
              "    }\n",
              "\n",
              "    .colab-df-convert:hover {\n",
              "      background-color: #E2EBFA;\n",
              "      box-shadow: 0px 1px 2px rgba(60, 64, 67, 0.3), 0px 1px 3px 1px rgba(60, 64, 67, 0.15);\n",
              "      fill: #174EA6;\n",
              "    }\n",
              "\n",
              "    [theme=dark] .colab-df-convert {\n",
              "      background-color: #3B4455;\n",
              "      fill: #D2E3FC;\n",
              "    }\n",
              "\n",
              "    [theme=dark] .colab-df-convert:hover {\n",
              "      background-color: #434B5C;\n",
              "      box-shadow: 0px 1px 3px 1px rgba(0, 0, 0, 0.15);\n",
              "      filter: drop-shadow(0px 1px 2px rgba(0, 0, 0, 0.3));\n",
              "      fill: #FFFFFF;\n",
              "    }\n",
              "  </style>\n",
              "\n",
              "      <script>\n",
              "        const buttonEl =\n",
              "          document.querySelector('#df-43544444-ce7a-4be9-aa86-ef5fcd58b8cb button.colab-df-convert');\n",
              "        buttonEl.style.display =\n",
              "          google.colab.kernel.accessAllowed ? 'block' : 'none';\n",
              "\n",
              "        async function convertToInteractive(key) {\n",
              "          const element = document.querySelector('#df-43544444-ce7a-4be9-aa86-ef5fcd58b8cb');\n",
              "          const dataTable =\n",
              "            await google.colab.kernel.invokeFunction('convertToInteractive',\n",
              "                                                     [key], {});\n",
              "          if (!dataTable) return;\n",
              "\n",
              "          const docLinkHtml = 'Like what you see? Visit the ' +\n",
              "            '<a target=\"_blank\" href=https://colab.research.google.com/notebooks/data_table.ipynb>data table notebook</a>'\n",
              "            + ' to learn more about interactive tables.';\n",
              "          element.innerHTML = '';\n",
              "          dataTable['output_type'] = 'display_data';\n",
              "          await google.colab.output.renderOutput(dataTable, element);\n",
              "          const docLink = document.createElement('div');\n",
              "          docLink.innerHTML = docLinkHtml;\n",
              "          element.appendChild(docLink);\n",
              "        }\n",
              "      </script>\n",
              "    </div>\n",
              "  </div>\n",
              "  "
            ]
          },
          "metadata": {},
          "execution_count": 255
        }
      ]
    },
    {
      "cell_type": "code",
      "source": [
        "df.shape\n"
      ],
      "metadata": {
        "colab": {
          "base_uri": "https://localhost:8080/"
        },
        "id": "9ciJAFGa0KOx",
        "outputId": "cb6f2f42-0482-4ffd-f397-e483f24b33f0"
      },
      "execution_count": null,
      "outputs": [
        {
          "output_type": "execute_result",
          "data": {
            "text/plain": [
              "(569, 33)"
            ]
          },
          "metadata": {},
          "execution_count": 256
        }
      ]
    },
    {
      "cell_type": "code",
      "source": [
        "#find range of each attribute\n",
        "df.nunique()"
      ],
      "metadata": {
        "colab": {
          "base_uri": "https://localhost:8080/"
        },
        "id": "5OUMUZLqy1Rj",
        "outputId": "86224de9-defb-49c3-b790-1b70aae873db"
      },
      "execution_count": null,
      "outputs": [
        {
          "output_type": "execute_result",
          "data": {
            "text/plain": [
              "id                         569\n",
              "diagnosis                    2\n",
              "radius_mean                456\n",
              "texture_mean               479\n",
              "perimeter_mean             522\n",
              "area_mean                  539\n",
              "smoothness_mean            474\n",
              "compactness_mean           537\n",
              "concavity_mean             537\n",
              "concave points_mean        542\n",
              "symmetry_mean              432\n",
              "fractal_dimension_mean     499\n",
              "radius_se                  540\n",
              "texture_se                 519\n",
              "perimeter_se               533\n",
              "area_se                    528\n",
              "smoothness_se              547\n",
              "compactness_se             541\n",
              "concavity_se               533\n",
              "concave points_se          507\n",
              "symmetry_se                498\n",
              "fractal_dimension_se       545\n",
              "radius_worst               457\n",
              "texture_worst              511\n",
              "perimeter_worst            514\n",
              "area_worst                 544\n",
              "smoothness_worst           411\n",
              "compactness_worst          529\n",
              "concavity_worst            539\n",
              "concave points_worst       492\n",
              "symmetry_worst             500\n",
              "fractal_dimension_worst    535\n",
              "Unnamed: 32                  0\n",
              "dtype: int64"
            ]
          },
          "metadata": {},
          "execution_count": 257
        }
      ]
    },
    {
      "cell_type": "code",
      "source": [
        "df.info()"
      ],
      "metadata": {
        "colab": {
          "base_uri": "https://localhost:8080/"
        },
        "id": "9ShrqMwhwePV",
        "outputId": "73903296-2574-4b88-e461-490e1f5cdf60"
      },
      "execution_count": null,
      "outputs": [
        {
          "output_type": "stream",
          "name": "stdout",
          "text": [
            "<class 'pandas.core.frame.DataFrame'>\n",
            "RangeIndex: 569 entries, 0 to 568\n",
            "Data columns (total 33 columns):\n",
            " #   Column                   Non-Null Count  Dtype  \n",
            "---  ------                   --------------  -----  \n",
            " 0   id                       569 non-null    int64  \n",
            " 1   diagnosis                569 non-null    object \n",
            " 2   radius_mean              569 non-null    float64\n",
            " 3   texture_mean             569 non-null    float64\n",
            " 4   perimeter_mean           569 non-null    float64\n",
            " 5   area_mean                569 non-null    float64\n",
            " 6   smoothness_mean          569 non-null    float64\n",
            " 7   compactness_mean         569 non-null    float64\n",
            " 8   concavity_mean           569 non-null    float64\n",
            " 9   concave points_mean      569 non-null    float64\n",
            " 10  symmetry_mean            569 non-null    float64\n",
            " 11  fractal_dimension_mean   569 non-null    float64\n",
            " 12  radius_se                569 non-null    float64\n",
            " 13  texture_se               569 non-null    float64\n",
            " 14  perimeter_se             569 non-null    float64\n",
            " 15  area_se                  569 non-null    float64\n",
            " 16  smoothness_se            569 non-null    float64\n",
            " 17  compactness_se           569 non-null    float64\n",
            " 18  concavity_se             569 non-null    float64\n",
            " 19  concave points_se        569 non-null    float64\n",
            " 20  symmetry_se              569 non-null    float64\n",
            " 21  fractal_dimension_se     569 non-null    float64\n",
            " 22  radius_worst             569 non-null    float64\n",
            " 23  texture_worst            569 non-null    float64\n",
            " 24  perimeter_worst          569 non-null    float64\n",
            " 25  area_worst               569 non-null    float64\n",
            " 26  smoothness_worst         569 non-null    float64\n",
            " 27  compactness_worst        569 non-null    float64\n",
            " 28  concavity_worst          569 non-null    float64\n",
            " 29  concave points_worst     569 non-null    float64\n",
            " 30  symmetry_worst           569 non-null    float64\n",
            " 31  fractal_dimension_worst  569 non-null    float64\n",
            " 32  Unnamed: 32              0 non-null      float64\n",
            "dtypes: float64(31), int64(1), object(1)\n",
            "memory usage: 146.8+ KB\n"
          ]
        }
      ]
    },
    {
      "cell_type": "code",
      "source": [
        "df.isnull().sum()"
      ],
      "metadata": {
        "id": "NVixrCmGxbrF",
        "colab": {
          "base_uri": "https://localhost:8080/"
        },
        "outputId": "987a014c-a066-483e-c037-e3f0894674c9"
      },
      "execution_count": null,
      "outputs": [
        {
          "output_type": "execute_result",
          "data": {
            "text/plain": [
              "id                           0\n",
              "diagnosis                    0\n",
              "radius_mean                  0\n",
              "texture_mean                 0\n",
              "perimeter_mean               0\n",
              "area_mean                    0\n",
              "smoothness_mean              0\n",
              "compactness_mean             0\n",
              "concavity_mean               0\n",
              "concave points_mean          0\n",
              "symmetry_mean                0\n",
              "fractal_dimension_mean       0\n",
              "radius_se                    0\n",
              "texture_se                   0\n",
              "perimeter_se                 0\n",
              "area_se                      0\n",
              "smoothness_se                0\n",
              "compactness_se               0\n",
              "concavity_se                 0\n",
              "concave points_se            0\n",
              "symmetry_se                  0\n",
              "fractal_dimension_se         0\n",
              "radius_worst                 0\n",
              "texture_worst                0\n",
              "perimeter_worst              0\n",
              "area_worst                   0\n",
              "smoothness_worst             0\n",
              "compactness_worst            0\n",
              "concavity_worst              0\n",
              "concave points_worst         0\n",
              "symmetry_worst               0\n",
              "fractal_dimension_worst      0\n",
              "Unnamed: 32                569\n",
              "dtype: int64"
            ]
          },
          "metadata": {},
          "execution_count": 259
        }
      ]
    },
    {
      "cell_type": "code",
      "source": [
        "#drop last column that's empty\n",
        "df.drop(columns=df.columns[-1], \n",
        "        axis=1, \n",
        "        inplace=True)"
      ],
      "metadata": {
        "id": "sG3G-ZMszVfF"
      },
      "execution_count": null,
      "outputs": []
    },
    {
      "cell_type": "code",
      "source": [
        "df.shape"
      ],
      "metadata": {
        "colab": {
          "base_uri": "https://localhost:8080/"
        },
        "id": "YVtKLVxV0G6x",
        "outputId": "9e9134d3-87d4-47a2-bf3e-da0b19a03ef7"
      },
      "execution_count": null,
      "outputs": [
        {
          "output_type": "execute_result",
          "data": {
            "text/plain": [
              "(569, 32)"
            ]
          },
          "metadata": {},
          "execution_count": 261
        }
      ]
    },
    {
      "cell_type": "code",
      "source": [
        "duplicated= df.duplicated().sum()\n",
        "duplicated"
      ],
      "metadata": {
        "colab": {
          "base_uri": "https://localhost:8080/"
        },
        "id": "FwYhhX5sy_r2",
        "outputId": "8f1282c2-75d0-4f1d-c6e4-655abf23a7f0"
      },
      "execution_count": null,
      "outputs": [
        {
          "output_type": "execute_result",
          "data": {
            "text/plain": [
              "0"
            ]
          },
          "metadata": {},
          "execution_count": 262
        }
      ]
    },
    {
      "cell_type": "code",
      "source": [
        "#convert target from string to int\n",
        "df.diagnosis = pd.factorize(df.diagnosis)[0]"
      ],
      "metadata": {
        "id": "1njgOCZb06eS"
      },
      "execution_count": null,
      "outputs": []
    },
    {
      "cell_type": "code",
      "source": [
        "df['diagnosis'].unique()"
      ],
      "metadata": {
        "colab": {
          "base_uri": "https://localhost:8080/"
        },
        "id": "b4tuzhPv1BqB",
        "outputId": "a90d2595-d75d-4702-e4ba-26ae1bd8f0c2"
      },
      "execution_count": null,
      "outputs": [
        {
          "output_type": "execute_result",
          "data": {
            "text/plain": [
              "array([0, 1])"
            ]
          },
          "metadata": {},
          "execution_count": 264
        }
      ]
    },
    {
      "cell_type": "markdown",
      "source": [
        "## Test Train split"
      ],
      "metadata": {
        "id": "UG2sFnsXSbbG"
      }
    },
    {
      "cell_type": "code",
      "source": [
        "X = df.drop(['diagnosis'], axis = 1)\n",
        "y = df['diagnosis']\n",
        "#split train and test\n",
        "X_HD_train, X_HD_test, Y_HD_train, Y_HD_test = train_test_split(X, y, test_size=0.3, random_state=4)\n",
        "print ('Train set:  ', X_HD_train.shape,  Y_HD_train.shape)\n",
        "print ('Test set:   ', X_HD_test.shape,  Y_HD_test.shape)"
      ],
      "metadata": {
        "colab": {
          "base_uri": "https://localhost:8080/"
        },
        "id": "XOd2Il3pzIfR",
        "outputId": "15aa1eb5-9384-4590-b093-bb17d0c11893"
      },
      "execution_count": null,
      "outputs": [
        {
          "output_type": "stream",
          "name": "stdout",
          "text": [
            "Train set:   (398, 31) (398,)\n",
            "Test set:    (171, 31) (171,)\n"
          ]
        }
      ]
    },
    {
      "cell_type": "markdown",
      "source": [
        "## SVM, LR, KNN for Breast Cancer"
      ],
      "metadata": {
        "id": "Dnf3QoXN2AFY"
      }
    },
    {
      "cell_type": "code",
      "source": [
        "#SVM breast cancer disease\n",
        "SVCModel =SVC(kernel= 'rbf', max_iter=1000,C=10,gamma='auto')\n",
        "SVCModel = SVCModel.fit(X_HD_train, Y_HD_train)\n",
        "y_HD_pred = SVCModel.predict(X_HD_test)\n",
        "SVM_Acc=accuracy_score(Y_HD_test, y_HD_pred)\n",
        "SVM_MSE=mean_squared_error(Y_HD_test, y_HD_pred)\n",
        "print(mean_squared_error(Y_HD_test, y_HD_pred))\n",
        "print(\"SVM Accuracy for breast cancer dataset\", accuracy_score(Y_HD_test, y_HD_pred))\n",
        "\n",
        "#LR breast cancer disease\n",
        "LGnModel =LogisticRegression(penalty='l1',solver='liblinear',C=1.0,random_state=50)\n",
        "LGnModel = LGnModel.fit(X_HD_train, Y_HD_train)\n",
        "y_HD_pred = LGnModel.predict(X_HD_test)\n",
        "LR_MSE=mean_squared_error(Y_HD_test, y_HD_pred)\n",
        "LR_Acc=accuracy_score(Y_HD_test, y_HD_pred)\n",
        "print(\"LR Accuracy for breast cancer dataset\", accuracy_score(Y_HD_test, y_HD_pred))\n",
        "\n",
        "#KNN breast cancer disease\n",
        "KNNModel = KNeighborsClassifier(n_neighbors=5, weights='uniform', algorithm='auto', leaf_size=30, p=2, metric='minkowski', metric_params=None, n_jobs=None)\n",
        "KNNModel = KNNModel.fit(X_HD_train, Y_HD_train)\n",
        "y_HD_pred = KNNModel.predict(X_HD_test)\n",
        "KNN_MSE=mean_squared_error(Y_HD_test, y_HD_pred)\n",
        "KNN_Acc=accuracy_score(Y_HD_test, y_HD_pred)\n",
        "print(\"KNN Accuracy for breast cancer dataset\", accuracy_score(Y_HD_test, y_HD_pred))\n"
      ],
      "metadata": {
        "colab": {
          "base_uri": "https://localhost:8080/"
        },
        "id": "L-lG07as1xci",
        "outputId": "11b93ca1-c233-48c1-b3f7-02647c34a6f9"
      },
      "execution_count": null,
      "outputs": [
        {
          "output_type": "stream",
          "name": "stdout",
          "text": [
            "0.3157894736842105\n",
            "SVM Accuracy for breast cancer dataset 0.6842105263157895\n",
            "LR Accuracy for breast cancer dataset 0.9239766081871345\n",
            "KNN Accuracy for breast cancer dataset 0.7602339181286549\n"
          ]
        },
        {
          "output_type": "stream",
          "name": "stderr",
          "text": [
            "/usr/local/lib/python3.7/dist-packages/sklearn/svm/_base.py:289: ConvergenceWarning: Solver terminated early (max_iter=1000).  Consider pre-processing your data with StandardScaler or MinMaxScaler.\n",
            "  ConvergenceWarning,\n"
          ]
        }
      ]
    },
    {
      "cell_type": "code",
      "source": [
        "import matplotlib.pyplot as plt\n",
        "fig = plt.figure()\n",
        "bars = ['SVM', 'LR', 'KNN']\n",
        "height = [SVM_Acc, LR_Acc, KNN_Acc]\n",
        "x_pos = np.arange(len(bars))\n",
        "plt.bar(x_pos, height,  color=['blue', 'red', 'green'])\n",
        "plt.xticks(x_pos, bars)\n",
        "# Show graph\n",
        "plt.title(\"Comparison of models Accuracy for Breast Cancer Dataset\")\n",
        "plt.show()"
      ],
      "metadata": {
        "colab": {
          "base_uri": "https://localhost:8080/",
          "height": 281
        },
        "id": "_XHdkt_UbWH_",
        "outputId": "a57e846a-fb5b-40a8-c8c1-e7357d7f3f3b"
      },
      "execution_count": null,
      "outputs": [
        {
          "output_type": "display_data",
          "data": {
            "text/plain": [
              "<Figure size 432x288 with 1 Axes>"
            ],
            "image/png": "[encoded data removed]"
          },
          "metadata": {
            "needs_background": "light"
          }
        }
      ]
    },
    {
      "cell_type": "markdown",
      "source": [
        "##Majority Voting"
      ],
      "metadata": {
        "id": "8DFCyPc72Wgk"
      }
    },
    {
      "cell_type": "code",
      "source": [
        "VotingClassifierModel = VotingClassifier(estimators=[('SVCModel',SVCModel),('LGnModel',LGnModel),('KNNModel',KNNModel)])\n",
        "VotingClassifierModel.fit(X_HD_train, Y_HD_train)"
      ],
      "metadata": {
        "colab": {
          "base_uri": "https://localhost:8080/"
        },
        "id": "ZbibbByx2VaG",
        "outputId": "7a3a7798-e10d-46dd-dda0-4f87fdc9b83e"
      },
      "execution_count": null,
      "outputs": [
        {
          "output_type": "stream",
          "name": "stderr",
          "text": [
            "/usr/local/lib/python3.7/dist-packages/sklearn/svm/_base.py:289: ConvergenceWarning: Solver terminated early (max_iter=1000).  Consider pre-processing your data with StandardScaler or MinMaxScaler.\n",
            "  ConvergenceWarning,\n"
          ]
        },
        {
          "output_type": "execute_result",
          "data": {
            "text/plain": [
              "VotingClassifier(estimators=[('SVCModel',\n",
              "                              SVC(C=10, gamma='auto', max_iter=1000)),\n",
              "                             ('LGnModel',\n",
              "                              LogisticRegression(penalty='l1', random_state=50,\n",
              "                                                 solver='liblinear')),\n",
              "                             ('KNNModel', KNeighborsClassifier())])"
            ]
          },
          "metadata": {},
          "execution_count": 268
        }
      ]
    },
    {
      "cell_type": "code",
      "source": [
        "y_HD_pred = VotingClassifierModel.predict(X_HD_test)\n",
        "# Y_HD_test = np.argmax(Y_HD_test, axis=1)\n",
        "print('Results for majority voting in Breast Cancer dataset')\n",
        "MV_BC=mean_squared_error(Y_HD_test, y_HD_pred)\n",
        "MV_BC2=mean_absolute_error(Y_HD_test, y_HD_pred)\n",
        "print(\"Majority Voting Accuracy for Liver dataset\", accuracy_score(Y_HD_test, y_HD_pred))\n",
        "\n",
        "print(\"Classification Report for majority voting in Breast Cancer dataset\", \"\\n\", classification_report(y_HD_pred, Y_HD_test))\n"
      ],
      "metadata": {
        "colab": {
          "base_uri": "https://localhost:8080/"
        },
        "id": "Zg7-W1cP2cfM",
        "outputId": "61a833c3-832a-411b-8fc3-03151cc23c1e"
      },
      "execution_count": null,
      "outputs": [
        {
          "output_type": "stream",
          "name": "stdout",
          "text": [
            "Results for majority voting in Breast Cancer dataset\n",
            "Majority Voting Accuracy for Liver dataset 0.8187134502923976\n",
            "Classification Report for majority voting in Breast Cancer dataset \n",
            "               precision    recall  f1-score   support\n",
            "\n",
            "           0       0.43      1.00      0.60        23\n",
            "           1       1.00      0.79      0.88       148\n",
            "\n",
            "    accuracy                           0.82       171\n",
            "   macro avg       0.71      0.90      0.74       171\n",
            "weighted avg       0.92      0.82      0.84       171\n",
            "\n"
          ]
        }
      ]
    },
    {
      "cell_type": "markdown",
      "source": [
        "## Stacking Classifier"
      ],
      "metadata": {
        "id": "kdrRm6IazGZ2"
      }
    },
    {
      "cell_type": "code",
      "source": [
        "from sklearn.ensemble import StackingClassifier\n",
        "StackingClassifier = StackingClassifier(estimators=[('SVCModel',SVCModel),('LGnModel',LGnModel),('KNNModel',KNNModel)])\n",
        "StackingClassifier.fit(X_HD_train, Y_HD_train)"
      ],
      "metadata": {
        "colab": {
          "base_uri": "https://localhost:8080/"
        },
        "id": "K152FNSc2u34",
        "outputId": "c5e9bcad-5ac7-4d97-ec3d-5fa8b1c26059"
      },
      "execution_count": null,
      "outputs": [
        {
          "output_type": "stream",
          "name": "stderr",
          "text": [
            "/usr/local/lib/python3.7/dist-packages/sklearn/svm/_base.py:289: ConvergenceWarning: Solver terminated early (max_iter=1000).  Consider pre-processing your data with StandardScaler or MinMaxScaler.\n",
            "  ConvergenceWarning,\n",
            "/usr/local/lib/python3.7/dist-packages/sklearn/svm/_base.py:289: ConvergenceWarning: Solver terminated early (max_iter=1000).  Consider pre-processing your data with StandardScaler or MinMaxScaler.\n",
            "  ConvergenceWarning,\n",
            "/usr/local/lib/python3.7/dist-packages/sklearn/svm/_base.py:289: ConvergenceWarning: Solver terminated early (max_iter=1000).  Consider pre-processing your data with StandardScaler or MinMaxScaler.\n",
            "  ConvergenceWarning,\n",
            "/usr/local/lib/python3.7/dist-packages/sklearn/svm/_base.py:289: ConvergenceWarning: Solver terminated early (max_iter=1000).  Consider pre-processing your data with StandardScaler or MinMaxScaler.\n",
            "  ConvergenceWarning,\n"
          ]
        },
        {
          "output_type": "execute_result",
          "data": {
            "text/plain": [
              "StackingClassifier(estimators=[('SVCModel',\n",
              "                                SVC(C=10, gamma='auto', max_iter=1000)),\n",
              "                               ('LGnModel',\n",
              "                                LogisticRegression(penalty='l1',\n",
              "                                                   random_state=50,\n",
              "                                                   solver='liblinear')),\n",
              "                               ('KNNModel', KNeighborsClassifier())])"
            ]
          },
          "metadata": {},
          "execution_count": 270
        }
      ]
    },
    {
      "cell_type": "code",
      "source": [
        "y_HD_pred = StackingClassifier.predict(X_HD_test)\n",
        "print('Results for Stacking in Breast cancer dataset')\n",
        "S_BC=mean_squared_error(Y_HD_test, y_HD_pred)\n",
        "S_BC2=mean_absolute_error(Y_HD_test, y_HD_pred)\n",
        "print(\"Stacking Classifier Accuracy for Breast cancer dataset\", accuracy_score(Y_HD_test, y_HD_pred))"
      ],
      "metadata": {
        "colab": {
          "base_uri": "https://localhost:8080/"
        },
        "id": "WdKOeXU72yKm",
        "outputId": "d48cef27-fe4c-4726-c4ea-a18293829669"
      },
      "execution_count": null,
      "outputs": [
        {
          "output_type": "stream",
          "name": "stdout",
          "text": [
            "Results for Stacking in Breast cancer dataset\n",
            "Stacking Classifier Accuracy for Breast cancer dataset 0.9298245614035088\n"
          ]
        }
      ]
    },
    {
      "cell_type": "markdown",
      "source": [
        "## Averaging Classifier"
      ],
      "metadata": {
        "id": "GJ-r0UMX2_gn"
      }
    },
    {
      "cell_type": "code",
      "source": [
        "svc_BC_pred = SVCModel.predict(X_HD_test)\n",
        "lr_BC_pred = LGnModel.predict(X_HD_test)\n",
        "knn_BC_pred = KNNModel.predict(X_HD_test)"
      ],
      "metadata": {
        "id": "s4ykEKFc25sq"
      },
      "execution_count": null,
      "outputs": []
    },
    {
      "cell_type": "code",
      "source": [
        "# final prediction after averaging on the prediction of all 3 models\n",
        "HD_pred_final = (svc_BC_pred+lr_BC_pred+knn_BC_pred)/3.0\n",
        "Avg_BC=mean_squared_error(Y_HD_test, HD_pred_final)\n",
        "Avg_BC2=mean_absolute_error(Y_HD_test, y_HD_pred)\n",
        "\n",
        "print(\"Majority Voting MSE for Liver dataset\", mean_squared_error(Y_HD_test, HD_pred_final))"
      ],
      "metadata": {
        "colab": {
          "base_uri": "https://localhost:8080/"
        },
        "id": "aGxuyP3e3KuD",
        "outputId": "8a5f5a46-c197-4d6a-a67f-b1e746d7830e"
      },
      "execution_count": null,
      "outputs": [
        {
          "output_type": "stream",
          "name": "stdout",
          "text": [
            "Majority Voting MSE for Liver dataset 0.11825860948667966\n"
          ]
        }
      ]
    },
    {
      "cell_type": "markdown",
      "source": [
        "##Comparing all the models\n"
      ],
      "metadata": {
        "id": "W6ty3VE-SSzE"
      }
    },
    {
      "cell_type": "code",
      "source": [
        "import matplotlib.pyplot as plt\n",
        "fig = plt.figure()\n",
        "bars = ['Majority Voting', 'Stacking Classifier', 'Avg Classifier']\n",
        "height = [MV_BC, S_BC, Avg_BC]\n",
        "x_pos = np.arange(len(bars))\n",
        "plt.bar(x_pos, height,  color=['blue', 'red', 'green'])\n",
        "plt.xticks(x_pos, bars)\n",
        "# Show graph\n",
        "plt.title(\"Comparison of models MSE for Breast Cancer Dataset\")\n",
        "plt.show()"
      ],
      "metadata": {
        "colab": {
          "base_uri": "https://localhost:8080/",
          "height": 281
        },
        "id": "UAUwJMLy3Qt8",
        "outputId": "ee813b25-669f-4beb-e592-3fe45875259a"
      },
      "execution_count": null,
      "outputs": [
        {
          "output_type": "display_data",
          "data": {
            "text/plain": [
              "<Figure size 432x288 with 1 Axes>"
            ],
            "image/png": "[encoded data removed]"
          },
          "metadata": {
            "needs_background": "light"
          }
        }
      ]
    },
    {
      "cell_type": "code",
      "source": [
        "import matplotlib.pyplot as plt\n",
        "fig = plt.figure()\n",
        "bars = ['Majority Voting', 'Stacking Classifier', 'Avg Classifier']\n",
        "height = [MV_BC2, S_BC2, Avg_BC2]\n",
        "x_pos = np.arange(len(bars))\n",
        "plt.bar(x_pos, height,  color=['blue', 'red', 'green'])\n",
        "plt.xticks(x_pos, bars)\n",
        "# Show graph\n",
        "plt.title(\"Comparison of models MAE for Breast Cancer Dataset\")\n",
        "plt.show()"
      ],
      "metadata": {
        "colab": {
          "base_uri": "https://localhost:8080/",
          "height": 281
        },
        "id": "yBs_45K1ZmtX",
        "outputId": "4ec66843-b1c6-44b6-80ae-da24d83d5337"
      },
      "execution_count": null,
      "outputs": [
        {
          "output_type": "display_data",
          "data": {
            "text/plain": [
              "<Figure size 432x288 with 1 Axes>"
            ],
            "image/png": "[encoded data removed]"
          },
          "metadata": {
            "needs_background": "light"
          }
        }
      ]
    },
    {
      "cell_type": "markdown",
      "source": [
        "#EDA - Liver Dataset"
      ],
      "metadata": {
        "id": "nKlUYkCn60CL"
      }
    },
    {
      "cell_type": "code",
      "source": [
        "df = pd.read_csv('/content/indian_liver_patient.csv')\n",
        "df.head(2)"
      ],
      "metadata": {
        "colab": {
          "base_uri": "https://localhost:8080/",
          "height": 176
        },
        "id": "emUo_FCU5UGr",
        "outputId": "2d1dd07c-6225-4d8b-99ad-a35744e291d0"
      },
      "execution_count": null,
      "outputs": [
        {
          "output_type": "execute_result",
          "data": {
            "text/plain": [
              "   Age  Gender  Total_Bilirubin  Direct_Bilirubin  Alkaline_Phosphotase  \\\n",
              "0   65  Female              0.7               0.1                   187   \n",
              "1   62    Male             10.9               5.5                   699   \n",
              "\n",
              "   Alamine_Aminotransferase  Aspartate_Aminotransferase  Total_Protiens  \\\n",
              "0                        16                          18             6.8   \n",
              "1                        64                         100             7.5   \n",
              "\n",
              "   Albumin  Albumin_and_Globulin_Ratio  Dataset  \n",
              "0      3.3                        0.90        1  \n",
              "1      3.2                        0.74        1  "
            ],
            "text/html": [
              "\n",
              "  <div id=\"df-347d5665-bf3c-46ff-b97e-c4f92da278e0\">\n",
              "    <div class=\"colab-df-container\">\n",
              "      <div>\n",
              "<style scoped>\n",
              "    .dataframe tbody tr th:only-of-type {\n",
              "        vertical-align: middle;\n",
              "    }\n",
              "\n",
              "    .dataframe tbody tr th {\n",
              "        vertical-align: top;\n",
              "    }\n",
              "\n",
              "    .dataframe thead th {\n",
              "        text-align: right;\n",
              "    }\n",
              "</style>\n",
              "<table border=\"1\" class=\"dataframe\">\n",
              "  <thead>\n",
              "    <tr style=\"text-align: right;\">\n",
              "      <th></th>\n",
              "      <th>Age</th>\n",
              "      <th>Gender</th>\n",
              "      <th>Total_Bilirubin</th>\n",
              "      <th>Direct_Bilirubin</th>\n",
              "      <th>Alkaline_Phosphotase</th>\n",
              "      <th>Alamine_Aminotransferase</th>\n",
              "      <th>Aspartate_Aminotransferase</th>\n",
              "      <th>Total_Protiens</th>\n",
              "      <th>Albumin</th>\n",
              "      <th>Albumin_and_Globulin_Ratio</th>\n",
              "      <th>Dataset</th>\n",
              "    </tr>\n",
              "  </thead>\n",
              "  <tbody>\n",
              "    <tr>\n",
              "      <th>0</th>\n",
              "      <td>65</td>\n",
              "      <td>Female</td>\n",
              "      <td>0.7</td>\n",
              "      <td>0.1</td>\n",
              "      <td>187</td>\n",
              "      <td>16</td>\n",
              "      <td>18</td>\n",
              "      <td>6.8</td>\n",
              "      <td>3.3</td>\n",
              "      <td>0.90</td>\n",
              "      <td>1</td>\n",
              "    </tr>\n",
              "    <tr>\n",
              "      <th>1</th>\n",
              "      <td>62</td>\n",
              "      <td>Male</td>\n",
              "      <td>10.9</td>\n",
              "      <td>5.5</td>\n",
              "      <td>699</td>\n",
              "      <td>64</td>\n",
              "      <td>100</td>\n",
              "      <td>7.5</td>\n",
              "      <td>3.2</td>\n",
              "      <td>0.74</td>\n",
              "      <td>1</td>\n",
              "    </tr>\n",
              "  </tbody>\n",
              "</table>\n",
              "</div>\n",
              "      <button class=\"colab-df-convert\" onclick=\"convertToInteractive('df-347d5665-bf3c-46ff-b97e-c4f92da278e0')\"\n",
              "              title=\"Convert this dataframe to an interactive table.\"\n",
              "              style=\"display:none;\">\n",
              "        \n",
              "  <svg xmlns=\"http://www.w3.org/2000/svg\" height=\"24px\"viewBox=\"0 0 24 24\"\n",
              "       width=\"24px\">\n",
              "    <path d=\"M0 0h24v24H0V0z\" fill=\"none\"/>\n",
              "    <path d=\"M18.56 5.44l.94 2.06.94-2.06 2.06-.94-2.06-.94-.94-2.06-.94 2.06-2.06.94zm-11 1L8.5 8.5l.94-2.06 2.06-.94-2.06-.94L8.5 2.5l-.94 2.06-2.06.94zm10 10l.94 2.06.94-2.06 2.06-.94-2.06-.94-.94-2.06-.94 2.06-2.06.94z\"/><path d=\"M17.41 7.96l-1.37-1.37c-.4-.4-.92-.59-1.43-.59-.52 0-1.04.2-1.43.59L10.3 9.45l-7.72 7.72c-.78.78-.78 2.05 0 2.83L4 21.41c.39.39.9.59 1.41.59.51 0 1.02-.2 1.41-.59l7.78-7.78 2.81-2.81c.8-.78.8-2.07 0-2.86zM5.41 20L4 18.59l7.72-7.72 1.47 1.35L5.41 20z\"/>\n",
              "  </svg>\n",
              "      </button>\n",
              "      \n",
              "  <style>\n",
              "    .colab-df-container {\n",
              "      display:flex;\n",
              "      flex-wrap:wrap;\n",
              "      gap: 12px;\n",
              "    }\n",
              "\n",
              "    .colab-df-convert {\n",
              "      background-color: #E8F0FE;\n",
              "      border: none;\n",
              "      border-radius: 50%;\n",
              "      cursor: pointer;\n",
              "      display: none;\n",
              "      fill: #1967D2;\n",
              "      height: 32px;\n",
              "      padding: 0 0 0 0;\n",
              "      width: 32px;\n",
              "    }\n",
              "\n",
              "    .colab-df-convert:hover {\n",
              "      background-color: #E2EBFA;\n",
              "      box-shadow: 0px 1px 2px rgba(60, 64, 67, 0.3), 0px 1px 3px 1px rgba(60, 64, 67, 0.15);\n",
              "      fill: #174EA6;\n",
              "    }\n",
              "\n",
              "    [theme=dark] .colab-df-convert {\n",
              "      background-color: #3B4455;\n",
              "      fill: #D2E3FC;\n",
              "    }\n",
              "\n",
              "    [theme=dark] .colab-df-convert:hover {\n",
              "      background-color: #434B5C;\n",
              "      box-shadow: 0px 1px 3px 1px rgba(0, 0, 0, 0.15);\n",
              "      filter: drop-shadow(0px 1px 2px rgba(0, 0, 0, 0.3));\n",
              "      fill: #FFFFFF;\n",
              "    }\n",
              "  </style>\n",
              "\n",
              "      <script>\n",
              "        const buttonEl =\n",
              "          document.querySelector('#df-347d5665-bf3c-46ff-b97e-c4f92da278e0 button.colab-df-convert');\n",
              "        buttonEl.style.display =\n",
              "          google.colab.kernel.accessAllowed ? 'block' : 'none';\n",
              "\n",
              "        async function convertToInteractive(key) {\n",
              "          const element = document.querySelector('#df-347d5665-bf3c-46ff-b97e-c4f92da278e0');\n",
              "          const dataTable =\n",
              "            await google.colab.kernel.invokeFunction('convertToInteractive',\n",
              "                                                     [key], {});\n",
              "          if (!dataTable) return;\n",
              "\n",
              "          const docLinkHtml = 'Like what you see? Visit the ' +\n",
              "            '<a target=\"_blank\" href=https://colab.research.google.com/notebooks/data_table.ipynb>data table notebook</a>'\n",
              "            + ' to learn more about interactive tables.';\n",
              "          element.innerHTML = '';\n",
              "          dataTable['output_type'] = 'display_data';\n",
              "          await google.colab.output.renderOutput(dataTable, element);\n",
              "          const docLink = document.createElement('div');\n",
              "          docLink.innerHTML = docLinkHtml;\n",
              "          element.appendChild(docLink);\n",
              "        }\n",
              "      </script>\n",
              "    </div>\n",
              "  </div>\n",
              "  "
            ]
          },
          "metadata": {},
          "execution_count": 276
        }
      ]
    },
    {
      "cell_type": "code",
      "source": [
        "#find range of each attribute\n",
        "df.nunique()"
      ],
      "metadata": {
        "colab": {
          "base_uri": "https://localhost:8080/"
        },
        "id": "7s_qjE4CPYS_",
        "outputId": "09fba391-8e1e-4c1d-d82c-a58473446d5f"
      },
      "execution_count": null,
      "outputs": [
        {
          "output_type": "execute_result",
          "data": {
            "text/plain": [
              "Age                            72\n",
              "Gender                          2\n",
              "Total_Bilirubin               113\n",
              "Direct_Bilirubin               80\n",
              "Alkaline_Phosphotase          263\n",
              "Alamine_Aminotransferase      152\n",
              "Aspartate_Aminotransferase    177\n",
              "Total_Protiens                 58\n",
              "Albumin                        40\n",
              "Albumin_and_Globulin_Ratio     69\n",
              "Dataset                         2\n",
              "dtype: int64"
            ]
          },
          "metadata": {},
          "execution_count": 277
        }
      ]
    },
    {
      "cell_type": "code",
      "source": [
        "df.info()"
      ],
      "metadata": {
        "colab": {
          "base_uri": "https://localhost:8080/"
        },
        "id": "DNl7BYhKPoUJ",
        "outputId": "a9c001be-8275-43b9-d637-80f63f9bfd81"
      },
      "execution_count": null,
      "outputs": [
        {
          "output_type": "stream",
          "name": "stdout",
          "text": [
            "<class 'pandas.core.frame.DataFrame'>\n",
            "RangeIndex: 583 entries, 0 to 582\n",
            "Data columns (total 11 columns):\n",
            " #   Column                      Non-Null Count  Dtype  \n",
            "---  ------                      --------------  -----  \n",
            " 0   Age                         583 non-null    int64  \n",
            " 1   Gender                      583 non-null    object \n",
            " 2   Total_Bilirubin             583 non-null    float64\n",
            " 3   Direct_Bilirubin            583 non-null    float64\n",
            " 4   Alkaline_Phosphotase        583 non-null    int64  \n",
            " 5   Alamine_Aminotransferase    583 non-null    int64  \n",
            " 6   Aspartate_Aminotransferase  583 non-null    int64  \n",
            " 7   Total_Protiens              583 non-null    float64\n",
            " 8   Albumin                     583 non-null    float64\n",
            " 9   Albumin_and_Globulin_Ratio  579 non-null    float64\n",
            " 10  Dataset                     583 non-null    int64  \n",
            "dtypes: float64(5), int64(5), object(1)\n",
            "memory usage: 50.2+ KB\n"
          ]
        }
      ]
    },
    {
      "cell_type": "code",
      "source": [
        "#find null values\n",
        "df.isnull().sum()"
      ],
      "metadata": {
        "colab": {
          "base_uri": "https://localhost:8080/"
        },
        "id": "mqVLrz_XPtzX",
        "outputId": "b7acdbd3-a1ed-4052-9644-2a25a7de5935"
      },
      "execution_count": null,
      "outputs": [
        {
          "output_type": "execute_result",
          "data": {
            "text/plain": [
              "Age                           0\n",
              "Gender                        0\n",
              "Total_Bilirubin               0\n",
              "Direct_Bilirubin              0\n",
              "Alkaline_Phosphotase          0\n",
              "Alamine_Aminotransferase      0\n",
              "Aspartate_Aminotransferase    0\n",
              "Total_Protiens                0\n",
              "Albumin                       0\n",
              "Albumin_and_Globulin_Ratio    4\n",
              "Dataset                       0\n",
              "dtype: int64"
            ]
          },
          "metadata": {},
          "execution_count": 279
        }
      ]
    },
    {
      "cell_type": "code",
      "source": [
        "#replace null values with median value\n",
        "df = df.fillna(df.median())\n",
        "df.isnull().sum()"
      ],
      "metadata": {
        "colab": {
          "base_uri": "https://localhost:8080/"
        },
        "id": "WAxIy9pCPvj0",
        "outputId": "0187f4b5-fb98-4604-9e07-3fb1de572b63"
      },
      "execution_count": null,
      "outputs": [
        {
          "output_type": "stream",
          "name": "stderr",
          "text": [
            "/usr/local/lib/python3.7/dist-packages/ipykernel_launcher.py:2: FutureWarning: Dropping of nuisance columns in DataFrame reductions (with 'numeric_only=None') is deprecated; in a future version this will raise TypeError.  Select only valid columns before calling the reduction.\n",
            "  \n"
          ]
        },
        {
          "output_type": "execute_result",
          "data": {
            "text/plain": [
              "Age                           0\n",
              "Gender                        0\n",
              "Total_Bilirubin               0\n",
              "Direct_Bilirubin              0\n",
              "Alkaline_Phosphotase          0\n",
              "Alamine_Aminotransferase      0\n",
              "Aspartate_Aminotransferase    0\n",
              "Total_Protiens                0\n",
              "Albumin                       0\n",
              "Albumin_and_Globulin_Ratio    0\n",
              "Dataset                       0\n",
              "dtype: int64"
            ]
          },
          "metadata": {},
          "execution_count": 280
        }
      ]
    },
    {
      "cell_type": "code",
      "source": [
        "#find and remove duplicate values\n",
        "duplicated= df.duplicated().sum()\n",
        "duplicated"
      ],
      "metadata": {
        "colab": {
          "base_uri": "https://localhost:8080/"
        },
        "id": "uKDPKaWuQTZv",
        "outputId": "298df11b-89e0-46c3-b4b1-5c0a2c22cda9"
      },
      "execution_count": null,
      "outputs": [
        {
          "output_type": "execute_result",
          "data": {
            "text/plain": [
              "13"
            ]
          },
          "metadata": {},
          "execution_count": 281
        }
      ]
    },
    {
      "cell_type": "code",
      "source": [
        "#remove duplicate rows\n",
        "df.drop_duplicates()"
      ],
      "metadata": {
        "colab": {
          "base_uri": "https://localhost:8080/",
          "height": 488
        },
        "id": "x1Av2I5AQjN3",
        "outputId": "f70e01b3-66ca-4055-dcaa-398b8c5fae71"
      },
      "execution_count": null,
      "outputs": [
        {
          "output_type": "execute_result",
          "data": {
            "text/plain": [
              "     Age  Gender  Total_Bilirubin  Direct_Bilirubin  Alkaline_Phosphotase  \\\n",
              "0     65  Female              0.7               0.1                   187   \n",
              "1     62    Male             10.9               5.5                   699   \n",
              "2     62    Male              7.3               4.1                   490   \n",
              "3     58    Male              1.0               0.4                   182   \n",
              "4     72    Male              3.9               2.0                   195   \n",
              "..   ...     ...              ...               ...                   ...   \n",
              "578   60    Male              0.5               0.1                   500   \n",
              "579   40    Male              0.6               0.1                    98   \n",
              "580   52    Male              0.8               0.2                   245   \n",
              "581   31    Male              1.3               0.5                   184   \n",
              "582   38    Male              1.0               0.3                   216   \n",
              "\n",
              "     Alamine_Aminotransferase  Aspartate_Aminotransferase  Total_Protiens  \\\n",
              "0                          16                          18             6.8   \n",
              "1                          64                         100             7.5   \n",
              "2                          60                          68             7.0   \n",
              "3                          14                          20             6.8   \n",
              "4                          27                          59             7.3   \n",
              "..                        ...                         ...             ...   \n",
              "578                        20                          34             5.9   \n",
              "579                        35                          31             6.0   \n",
              "580                        48                          49             6.4   \n",
              "581                        29                          32             6.8   \n",
              "582                        21                          24             7.3   \n",
              "\n",
              "     Albumin  Albumin_and_Globulin_Ratio  Dataset  \n",
              "0        3.3                        0.90        1  \n",
              "1        3.2                        0.74        1  \n",
              "2        3.3                        0.89        1  \n",
              "3        3.4                        1.00        1  \n",
              "4        2.4                        0.40        1  \n",
              "..       ...                         ...      ...  \n",
              "578      1.6                        0.37        2  \n",
              "579      3.2                        1.10        1  \n",
              "580      3.2                        1.00        1  \n",
              "581      3.4                        1.00        1  \n",
              "582      4.4                        1.50        2  \n",
              "\n",
              "[570 rows x 11 columns]"
            ],
            "text/html": [
              "\n",
              "  <div id=\"df-2859bc37-bfbd-41b7-9d9d-06994384186e\">\n",
              "    <div class=\"colab-df-container\">\n",
              "      <div>\n",
              "<style scoped>\n",
              "    .dataframe tbody tr th:only-of-type {\n",
              "        vertical-align: middle;\n",
              "    }\n",
              "\n",
              "    .dataframe tbody tr th {\n",
              "        vertical-align: top;\n",
              "    }\n",
              "\n",
              "    .dataframe thead th {\n",
              "        text-align: right;\n",
              "    }\n",
              "</style>\n",
              "<table border=\"1\" class=\"dataframe\">\n",
              "  <thead>\n",
              "    <tr style=\"text-align: right;\">\n",
              "      <th></th>\n",
              "      <th>Age</th>\n",
              "      <th>Gender</th>\n",
              "      <th>Total_Bilirubin</th>\n",
              "      <th>Direct_Bilirubin</th>\n",
              "      <th>Alkaline_Phosphotase</th>\n",
              "      <th>Alamine_Aminotransferase</th>\n",
              "      <th>Aspartate_Aminotransferase</th>\n",
              "      <th>Total_Protiens</th>\n",
              "      <th>Albumin</th>\n",
              "      <th>Albumin_and_Globulin_Ratio</th>\n",
              "      <th>Dataset</th>\n",
              "    </tr>\n",
              "  </thead>\n",
              "  <tbody>\n",
              "    <tr>\n",
              "      <th>0</th>\n",
              "      <td>65</td>\n",
              "      <td>Female</td>\n",
              "      <td>0.7</td>\n",
              "      <td>0.1</td>\n",
              "      <td>187</td>\n",
              "      <td>16</td>\n",
              "      <td>18</td>\n",
              "      <td>6.8</td>\n",
              "      <td>3.3</td>\n",
              "      <td>0.90</td>\n",
              "      <td>1</td>\n",
              "    </tr>\n",
              "    <tr>\n",
              "      <th>1</th>\n",
              "      <td>62</td>\n",
              "      <td>Male</td>\n",
              "      <td>10.9</td>\n",
              "      <td>5.5</td>\n",
              "      <td>699</td>\n",
              "      <td>64</td>\n",
              "      <td>100</td>\n",
              "      <td>7.5</td>\n",
              "      <td>3.2</td>\n",
              "      <td>0.74</td>\n",
              "      <td>1</td>\n",
              "    </tr>\n",
              "    <tr>\n",
              "      <th>2</th>\n",
              "      <td>62</td>\n",
              "      <td>Male</td>\n",
              "      <td>7.3</td>\n",
              "      <td>4.1</td>\n",
              "      <td>490</td>\n",
              "      <td>60</td>\n",
              "      <td>68</td>\n",
              "      <td>7.0</td>\n",
              "      <td>3.3</td>\n",
              "      <td>0.89</td>\n",
              "      <td>1</td>\n",
              "    </tr>\n",
              "    <tr>\n",
              "      <th>3</th>\n",
              "      <td>58</td>\n",
              "      <td>Male</td>\n",
              "      <td>1.0</td>\n",
              "      <td>0.4</td>\n",
              "      <td>182</td>\n",
              "      <td>14</td>\n",
              "      <td>20</td>\n",
              "      <td>6.8</td>\n",
              "      <td>3.4</td>\n",
              "      <td>1.00</td>\n",
              "      <td>1</td>\n",
              "    </tr>\n",
              "    <tr>\n",
              "      <th>4</th>\n",
              "      <td>72</td>\n",
              "      <td>Male</td>\n",
              "      <td>3.9</td>\n",
              "      <td>2.0</td>\n",
              "      <td>195</td>\n",
              "      <td>27</td>\n",
              "      <td>59</td>\n",
              "      <td>7.3</td>\n",
              "      <td>2.4</td>\n",
              "      <td>0.40</td>\n",
              "      <td>1</td>\n",
              "    </tr>\n",
              "    <tr>\n",
              "      <th>...</th>\n",
              "      <td>...</td>\n",
              "      <td>...</td>\n",
              "      <td>...</td>\n",
              "      <td>...</td>\n",
              "      <td>...</td>\n",
              "      <td>...</td>\n",
              "      <td>...</td>\n",
              "      <td>...</td>\n",
              "      <td>...</td>\n",
              "      <td>...</td>\n",
              "      <td>...</td>\n",
              "    </tr>\n",
              "    <tr>\n",
              "      <th>578</th>\n",
              "      <td>60</td>\n",
              "      <td>Male</td>\n",
              "      <td>0.5</td>\n",
              "      <td>0.1</td>\n",
              "      <td>500</td>\n",
              "      <td>20</td>\n",
              "      <td>34</td>\n",
              "      <td>5.9</td>\n",
              "      <td>1.6</td>\n",
              "      <td>0.37</td>\n",
              "      <td>2</td>\n",
              "    </tr>\n",
              "    <tr>\n",
              "      <th>579</th>\n",
              "      <td>40</td>\n",
              "      <td>Male</td>\n",
              "      <td>0.6</td>\n",
              "      <td>0.1</td>\n",
              "      <td>98</td>\n",
              "      <td>35</td>\n",
              "      <td>31</td>\n",
              "      <td>6.0</td>\n",
              "      <td>3.2</td>\n",
              "      <td>1.10</td>\n",
              "      <td>1</td>\n",
              "    </tr>\n",
              "    <tr>\n",
              "      <th>580</th>\n",
              "      <td>52</td>\n",
              "      <td>Male</td>\n",
              "      <td>0.8</td>\n",
              "      <td>0.2</td>\n",
              "      <td>245</td>\n",
              "      <td>48</td>\n",
              "      <td>49</td>\n",
              "      <td>6.4</td>\n",
              "      <td>3.2</td>\n",
              "      <td>1.00</td>\n",
              "      <td>1</td>\n",
              "    </tr>\n",
              "    <tr>\n",
              "      <th>581</th>\n",
              "      <td>31</td>\n",
              "      <td>Male</td>\n",
              "      <td>1.3</td>\n",
              "      <td>0.5</td>\n",
              "      <td>184</td>\n",
              "      <td>29</td>\n",
              "      <td>32</td>\n",
              "      <td>6.8</td>\n",
              "      <td>3.4</td>\n",
              "      <td>1.00</td>\n",
              "      <td>1</td>\n",
              "    </tr>\n",
              "    <tr>\n",
              "      <th>582</th>\n",
              "      <td>38</td>\n",
              "      <td>Male</td>\n",
              "      <td>1.0</td>\n",
              "      <td>0.3</td>\n",
              "      <td>216</td>\n",
              "      <td>21</td>\n",
              "      <td>24</td>\n",
              "      <td>7.3</td>\n",
              "      <td>4.4</td>\n",
              "      <td>1.50</td>\n",
              "      <td>2</td>\n",
              "    </tr>\n",
              "  </tbody>\n",
              "</table>\n",
              "<p>570 rows × 11 columns</p>\n",
              "</div>\n",
              "      <button class=\"colab-df-convert\" onclick=\"convertToInteractive('df-2859bc37-bfbd-41b7-9d9d-06994384186e')\"\n",
              "              title=\"Convert this dataframe to an interactive table.\"\n",
              "              style=\"display:none;\">\n",
              "        \n",
              "  <svg xmlns=\"http://www.w3.org/2000/svg\" height=\"24px\"viewBox=\"0 0 24 24\"\n",
              "       width=\"24px\">\n",
              "    <path d=\"M0 0h24v24H0V0z\" fill=\"none\"/>\n",
              "    <path d=\"M18.56 5.44l.94 2.06.94-2.06 2.06-.94-2.06-.94-.94-2.06-.94 2.06-2.06.94zm-11 1L8.5 8.5l.94-2.06 2.06-.94-2.06-.94L8.5 2.5l-.94 2.06-2.06.94zm10 10l.94 2.06.94-2.06 2.06-.94-2.06-.94-.94-2.06-.94 2.06-2.06.94z\"/><path d=\"M17.41 7.96l-1.37-1.37c-.4-.4-.92-.59-1.43-.59-.52 0-1.04.2-1.43.59L10.3 9.45l-7.72 7.72c-.78.78-.78 2.05 0 2.83L4 21.41c.39.39.9.59 1.41.59.51 0 1.02-.2 1.41-.59l7.78-7.78 2.81-2.81c.8-.78.8-2.07 0-2.86zM5.41 20L4 18.59l7.72-7.72 1.47 1.35L5.41 20z\"/>\n",
              "  </svg>\n",
              "      </button>\n",
              "      \n",
              "  <style>\n",
              "    .colab-df-container {\n",
              "      display:flex;\n",
              "      flex-wrap:wrap;\n",
              "      gap: 12px;\n",
              "    }\n",
              "\n",
              "    .colab-df-convert {\n",
              "      background-color: #E8F0FE;\n",
              "      border: none;\n",
              "      border-radius: 50%;\n",
              "      cursor: pointer;\n",
              "      display: none;\n",
              "      fill: #1967D2;\n",
              "      height: 32px;\n",
              "      padding: 0 0 0 0;\n",
              "      width: 32px;\n",
              "    }\n",
              "\n",
              "    .colab-df-convert:hover {\n",
              "      background-color: #E2EBFA;\n",
              "      box-shadow: 0px 1px 2px rgba(60, 64, 67, 0.3), 0px 1px 3px 1px rgba(60, 64, 67, 0.15);\n",
              "      fill: #174EA6;\n",
              "    }\n",
              "\n",
              "    [theme=dark] .colab-df-convert {\n",
              "      background-color: #3B4455;\n",
              "      fill: #D2E3FC;\n",
              "    }\n",
              "\n",
              "    [theme=dark] .colab-df-convert:hover {\n",
              "      background-color: #434B5C;\n",
              "      box-shadow: 0px 1px 3px 1px rgba(0, 0, 0, 0.15);\n",
              "      filter: drop-shadow(0px 1px 2px rgba(0, 0, 0, 0.3));\n",
              "      fill: #FFFFFF;\n",
              "    }\n",
              "  </style>\n",
              "\n",
              "      <script>\n",
              "        const buttonEl =\n",
              "          document.querySelector('#df-2859bc37-bfbd-41b7-9d9d-06994384186e button.colab-df-convert');\n",
              "        buttonEl.style.display =\n",
              "          google.colab.kernel.accessAllowed ? 'block' : 'none';\n",
              "\n",
              "        async function convertToInteractive(key) {\n",
              "          const element = document.querySelector('#df-2859bc37-bfbd-41b7-9d9d-06994384186e');\n",
              "          const dataTable =\n",
              "            await google.colab.kernel.invokeFunction('convertToInteractive',\n",
              "                                                     [key], {});\n",
              "          if (!dataTable) return;\n",
              "\n",
              "          const docLinkHtml = 'Like what you see? Visit the ' +\n",
              "            '<a target=\"_blank\" href=https://colab.research.google.com/notebooks/data_table.ipynb>data table notebook</a>'\n",
              "            + ' to learn more about interactive tables.';\n",
              "          element.innerHTML = '';\n",
              "          dataTable['output_type'] = 'display_data';\n",
              "          await google.colab.output.renderOutput(dataTable, element);\n",
              "          const docLink = document.createElement('div');\n",
              "          docLink.innerHTML = docLinkHtml;\n",
              "          element.appendChild(docLink);\n",
              "        }\n",
              "      </script>\n",
              "    </div>\n",
              "  </div>\n",
              "  "
            ]
          },
          "metadata": {},
          "execution_count": 282
        }
      ]
    },
    {
      "cell_type": "code",
      "source": [
        "#convert Gender from string to int\n",
        "df.Gender = pd.factorize(df.Gender)[0]"
      ],
      "metadata": {
        "id": "fWJeeVdoRpQW"
      },
      "execution_count": null,
      "outputs": []
    },
    {
      "cell_type": "markdown",
      "source": [
        "## Test Train split"
      ],
      "metadata": {
        "id": "sEh1yDycQuSp"
      }
    },
    {
      "cell_type": "code",
      "source": [
        "X = df.drop(['Dataset'], axis = 1)\n",
        "y = df['Dataset']\n",
        "#split train and test\n",
        "X_HD_train, X_HD_test, Y_HD_train, Y_HD_test = train_test_split(X, y, test_size=0.3, random_state=4)\n",
        "print ('Train set:  ', X_HD_train.shape,  Y_HD_train.shape)\n",
        "print ('Test set:   ', X_HD_test.shape,  Y_HD_test.shape)"
      ],
      "metadata": {
        "colab": {
          "base_uri": "https://localhost:8080/"
        },
        "id": "n9Q5jONpQadC",
        "outputId": "f3610dab-94af-477c-b54e-7dfc7c97a279"
      },
      "execution_count": null,
      "outputs": [
        {
          "output_type": "stream",
          "name": "stdout",
          "text": [
            "Train set:   (408, 10) (408,)\n",
            "Test set:    (175, 10) (175,)\n"
          ]
        }
      ]
    },
    {
      "cell_type": "markdown",
      "source": [
        "## SVM, LR, KNN for Liver Diseaser"
      ],
      "metadata": {
        "id": "1b71LXcQRbU0"
      }
    },
    {
      "cell_type": "code",
      "source": [
        "#SVM Liver disease\n",
        "SVCModel =SVC(kernel= 'rbf', max_iter=1000,C=10,gamma='auto')\n",
        "SVCModel = SVCModel.fit(X_HD_train, Y_HD_train)\n",
        "y_HD_pred = SVCModel.predict(X_HD_test)\n",
        "SVM_Acc=accuracy_score(Y_HD_test, y_HD_pred)\n",
        "SVM_MSE=mean_squared_error(Y_HD_test, y_HD_pred)\n",
        "print(mean_squared_error(Y_HD_test, y_HD_pred))\n",
        "print(\"SVM Accuracy for Liver dataset\", accuracy_score(Y_HD_test, y_HD_pred))\n",
        "\n",
        "#LR Liver disease\n",
        "LGnModel =LogisticRegression(penalty='l1',solver='liblinear',C=1.0,random_state=50)\n",
        "LGnModel = LGnModel.fit(X_HD_train, Y_HD_train)\n",
        "y_HD_pred = LGnModel.predict(X_HD_test)\n",
        "LR_MSE=mean_squared_error(Y_HD_test, y_HD_pred)\n",
        "LR_Acc=accuracy_score(Y_HD_test, y_HD_pred)\n",
        "print(\"LR Accuracy for Liver dataset\", accuracy_score(Y_HD_test, y_HD_pred))\n",
        "\n",
        "#KNN Liver disease\n",
        "KNNModel = KNeighborsClassifier(n_neighbors=5, weights='uniform', algorithm='auto', leaf_size=30, p=2, metric='minkowski', metric_params=None, n_jobs=None)\n",
        "KNNModel = KNNModel.fit(X_HD_train, Y_HD_train)\n",
        "y_HD_pred = KNNModel.predict(X_HD_test)\n",
        "KNN_MSE=mean_squared_error(Y_HD_test, y_HD_pred)\n",
        "KNN_Acc=accuracy_score(Y_HD_test, y_HD_pred)\n",
        "print(\"KNN Accuracy for Liver dataset\", accuracy_score(Y_HD_test, y_HD_pred))"
      ],
      "metadata": {
        "colab": {
          "base_uri": "https://localhost:8080/"
        },
        "id": "T4Iv1aBPQ24U",
        "outputId": "9cbd12c9-c8ed-4921-9a9c-fcff11e272c2"
      },
      "execution_count": null,
      "outputs": [
        {
          "output_type": "stream",
          "name": "stdout",
          "text": [
            "0.26857142857142857\n",
            "SVM Accuracy for Liver dataset 0.7314285714285714\n",
            "LR Accuracy for Liver dataset 0.72\n",
            "KNN Accuracy for Liver dataset 0.6457142857142857\n"
          ]
        },
        {
          "output_type": "stream",
          "name": "stderr",
          "text": [
            "/usr/local/lib/python3.7/dist-packages/sklearn/svm/_base.py:289: ConvergenceWarning: Solver terminated early (max_iter=1000).  Consider pre-processing your data with StandardScaler or MinMaxScaler.\n",
            "  ConvergenceWarning,\n"
          ]
        }
      ]
    },
    {
      "cell_type": "code",
      "source": [
        "import matplotlib.pyplot as plt\n",
        "fig = plt.figure()\n",
        "bars = ['SVM', 'LR', 'KNN']\n",
        "height = [SVM_Acc, LR_Acc, KNN_Acc]\n",
        "x_pos = np.arange(len(bars))\n",
        "plt.bar(x_pos, height,  color=['blue', 'red', 'green'])\n",
        "plt.xticks(x_pos, bars)\n",
        "# Show graph\n",
        "plt.title(\"Comparison of models Accuracy for Liver Dataset\")\n",
        "plt.show()"
      ],
      "metadata": {
        "colab": {
          "base_uri": "https://localhost:8080/",
          "height": 281
        },
        "id": "9swp2WvRX8DZ",
        "outputId": "8d5480ca-abd7-45c5-ccc9-249c4a596595"
      },
      "execution_count": null,
      "outputs": [
        {
          "output_type": "display_data",
          "data": {
            "text/plain": [
              "<Figure size 432x288 with 1 Axes>"
            ],
            "image/png": "[encoded data removed]"
          },
          "metadata": {
            "needs_background": "light"
          }
        }
      ]
    },
    {
      "cell_type": "markdown",
      "source": [
        "##Majority Voting"
      ],
      "metadata": {
        "id": "hNTwHin3R2AX"
      }
    },
    {
      "cell_type": "code",
      "source": [
        "VotingClassifierModel = VotingClassifier(estimators=[('SVCModel',SVCModel),('LGnModel',LGnModel),('KNNModel',KNNModel)])\n",
        "VotingClassifierModel.fit(X_HD_train, Y_HD_train)"
      ],
      "metadata": {
        "colab": {
          "base_uri": "https://localhost:8080/"
        },
        "id": "hxofyHwbR2O3",
        "outputId": "6748978d-f93f-4ea2-f0c1-7676f7a37eb6"
      },
      "execution_count": null,
      "outputs": [
        {
          "output_type": "stream",
          "name": "stderr",
          "text": [
            "/usr/local/lib/python3.7/dist-packages/sklearn/svm/_base.py:289: ConvergenceWarning: Solver terminated early (max_iter=1000).  Consider pre-processing your data with StandardScaler or MinMaxScaler.\n",
            "  ConvergenceWarning,\n"
          ]
        },
        {
          "output_type": "execute_result",
          "data": {
            "text/plain": [
              "VotingClassifier(estimators=[('SVCModel',\n",
              "                              SVC(C=10, gamma='auto', max_iter=1000)),\n",
              "                             ('LGnModel',\n",
              "                              LogisticRegression(penalty='l1', random_state=50,\n",
              "                                                 solver='liblinear')),\n",
              "                             ('KNNModel', KNeighborsClassifier())])"
            ]
          },
          "metadata": {},
          "execution_count": 287
        }
      ]
    },
    {
      "cell_type": "code",
      "source": [
        "y_HD_pred = VotingClassifierModel.predict(X_HD_test)\n",
        "# Y_HD_test = np.argmax(Y_HD_test, axis=1)\n",
        "print('Results for majority voting in Breast Cancer dataset')\n",
        "MV_LD=mean_squared_error(Y_HD_test, y_HD_pred)\n",
        "MV_LD2=mean_absolute_error(Y_HD_test, y_HD_pred)\n",
        "print(\"Majority Voting Accuracy for Liver dataset\", accuracy_score(Y_HD_test, y_HD_pred))\n",
        "\n",
        "print(\"Classification Report for majority voting in Breast Cancer dataset\", \"\\n\", classification_report(y_HD_pred, Y_HD_test))"
      ],
      "metadata": {
        "colab": {
          "base_uri": "https://localhost:8080/"
        },
        "id": "pq_kq-GQUdjc",
        "outputId": "94db2fff-3d14-42da-8b38-f690b42e91b4"
      },
      "execution_count": null,
      "outputs": [
        {
          "output_type": "stream",
          "name": "stdout",
          "text": [
            "Results for majority voting in Breast Cancer dataset\n",
            "Majority Voting Accuracy for Liver dataset 0.7371428571428571\n",
            "Classification Report for majority voting in Breast Cancer dataset \n",
            "               precision    recall  f1-score   support\n",
            "\n",
            "           1       0.98      0.74      0.84       166\n",
            "           2       0.12      0.67      0.21         9\n",
            "\n",
            "    accuracy                           0.74       175\n",
            "   macro avg       0.55      0.70      0.52       175\n",
            "weighted avg       0.93      0.74      0.81       175\n",
            "\n"
          ]
        }
      ]
    },
    {
      "cell_type": "markdown",
      "source": [
        "## Stacking Classifier"
      ],
      "metadata": {
        "id": "UNpF56eJSCyz"
      }
    },
    {
      "cell_type": "code",
      "source": [
        "from sklearn.ensemble import StackingClassifier\n",
        "StackingClassifier = StackingClassifier(estimators=[('SVCModel',SVCModel),('LGnModel',LGnModel),('KNNModel',KNNModel)])\n",
        "StackingClassifier.fit(X_HD_train, Y_HD_train)"
      ],
      "metadata": {
        "colab": {
          "base_uri": "https://localhost:8080/"
        },
        "id": "iqiX05n3RGJf",
        "outputId": "f1908224-f784-4be9-d0ae-ff7743500b70"
      },
      "execution_count": null,
      "outputs": [
        {
          "output_type": "stream",
          "name": "stderr",
          "text": [
            "/usr/local/lib/python3.7/dist-packages/sklearn/svm/_base.py:289: ConvergenceWarning: Solver terminated early (max_iter=1000).  Consider pre-processing your data with StandardScaler or MinMaxScaler.\n",
            "  ConvergenceWarning,\n"
          ]
        },
        {
          "output_type": "execute_result",
          "data": {
            "text/plain": [
              "StackingClassifier(estimators=[('SVCModel',\n",
              "                                SVC(C=10, gamma='auto', max_iter=1000)),\n",
              "                               ('LGnModel',\n",
              "                                LogisticRegression(penalty='l1',\n",
              "                                                   random_state=50,\n",
              "                                                   solver='liblinear')),\n",
              "                               ('KNNModel', KNeighborsClassifier())])"
            ]
          },
          "metadata": {},
          "execution_count": 289
        }
      ]
    },
    {
      "cell_type": "code",
      "source": [
        "y_HD_pred = StackingClassifier.predict(X_HD_test)\n",
        "print('Results for Stacking in Liver Disease dataset')\n",
        "S_LD=mean_squared_error(Y_HD_test, y_HD_pred)\n",
        "S_LD2=mean_absolute_error(Y_HD_test, y_HD_pred)\n",
        "print(\"Stacking Classifier Accuracy for Liver dataset\", accuracy_score(Y_HD_test, y_HD_pred))"
      ],
      "metadata": {
        "colab": {
          "base_uri": "https://localhost:8080/"
        },
        "id": "03T6BhwtUVcS",
        "outputId": "65b031f8-33b4-42f8-9f10-86cc42fe40b4"
      },
      "execution_count": null,
      "outputs": [
        {
          "output_type": "stream",
          "name": "stdout",
          "text": [
            "Results for Stacking in Liver Disease dataset\n",
            "Stacking Classifier Accuracy for Liver dataset 0.7085714285714285\n"
          ]
        }
      ]
    },
    {
      "cell_type": "markdown",
      "source": [
        "## Averaging Classifier"
      ],
      "metadata": {
        "id": "_6JIzrsuSJRp"
      }
    },
    {
      "cell_type": "code",
      "source": [
        "svc_BC_pred = SVCModel.predict(X_HD_test)\n",
        "lr_BC_pred = LGnModel.predict(X_HD_test)\n",
        "knn_BC_pred = KNNModel.predict(X_HD_test)"
      ],
      "metadata": {
        "id": "SlMQic20R9ar"
      },
      "execution_count": null,
      "outputs": []
    },
    {
      "cell_type": "code",
      "source": [
        "from sklearn.metrics import mean_squared_error\n",
        "# final prediction after averaging on the prediction of all 3 models\n",
        "HD_pred_final = (svc_BC_pred+lr_BC_pred+knn_BC_pred)/3.0\n",
        "Avg_LD=mean_squared_error(Y_HD_test, HD_pred_final)\n",
        "Avg_LD2=mean_absolute_error(Y_HD_test, y_HD_pred)\n",
        "\n",
        "print(\"Majority Voting MSE for Liver dataset\", mean_squared_error(Y_HD_test, HD_pred_final))"
      ],
      "metadata": {
        "colab": {
          "base_uri": "https://localhost:8080/"
        },
        "id": "1WNbyIooSF0b",
        "outputId": "c06ddd69-9182-4db9-ef1d-a3ee101c6d45"
      },
      "execution_count": null,
      "outputs": [
        {
          "output_type": "stream",
          "name": "stdout",
          "text": [
            "Majority Voting MSE for Liver dataset 0.22984126984126987\n"
          ]
        }
      ]
    },
    {
      "cell_type": "markdown",
      "source": [
        "##Comparing all the models\n"
      ],
      "metadata": {
        "id": "RUZRK8svSVbs"
      }
    },
    {
      "cell_type": "code",
      "source": [
        "import matplotlib.pyplot as plt\n",
        "fig = plt.figure()\n",
        "bars = ['Majority Voting', 'Stacking Classifier', 'Avg Classifier']\n",
        "height = [MV_LD, S_LD, Avg_LD]\n",
        "x_pos = np.arange(len(bars))\n",
        "plt.bar(x_pos, height,  color=['blue', 'red', 'green'])\n",
        "plt.xticks(x_pos, bars)\n",
        "# Show graph\n",
        "plt.title(\"Comparison of models MSE for Liver Dataset\")\n",
        "plt.show()"
      ],
      "metadata": {
        "colab": {
          "base_uri": "https://localhost:8080/",
          "height": 281
        },
        "id": "3fVvpoYoSMep",
        "outputId": "a627b6dc-6697-4785-f95c-f48feee87317"
      },
      "execution_count": null,
      "outputs": [
        {
          "output_type": "display_data",
          "data": {
            "text/plain": [
              "<Figure size 432x288 with 1 Axes>"
            ],
            "image/png": "[encoded data removed]"
          },
          "metadata": {
            "needs_background": "light"
          }
        }
      ]
    },
    {
      "cell_type": "code",
      "source": [
        "import matplotlib.pyplot as plt\n",
        "fig = plt.figure()\n",
        "bars = ['Majority Voting', 'Stacking Classifier', 'Avg Classifier']\n",
        "height = [MV_LD2, S_LD2, Avg_LD2]\n",
        "x_pos = np.arange(len(bars))\n",
        "plt.bar(x_pos, height,  color=['blue', 'red', 'green'])\n",
        "plt.xticks(x_pos, bars)\n",
        "# Show graph\n",
        "plt.title(\"Comparison of models MAE for Liver Dataset\")\n",
        "plt.show()"
      ],
      "metadata": {
        "colab": {
          "base_uri": "https://localhost:8080/",
          "height": 281
        },
        "id": "sAergauYXxXS",
        "outputId": "14978f46-1651-463c-d11c-a44307e60061"
      },
      "execution_count": null,
      "outputs": [
        {
          "output_type": "display_data",
          "data": {
            "text/plain": [
              "<Figure size 432x288 with 1 Axes>"
            ],
            "image/png": "[encoded data removed]"
          },
          "metadata": {
            "needs_background": "light"
          }
        }
      ]
    },
    {
      "cell_type": "code",
      "source": [
        ""
      ],
      "metadata": {
        "id": "LShlZzX8Vc0j"
      },
      "execution_count": null,
      "outputs": []
    }
  ]
}